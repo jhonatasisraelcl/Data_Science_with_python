{
  "nbformat": 4,
  "nbformat_minor": 0,
  "metadata": {
    "colab": {
      "name": "imersao_dados_alura.ipynb",
      "private_outputs": true,
      "provenance": []
    },
    "kernelspec": {
      "name": "python3",
      "display_name": "Python 3"
    },
    "language_info": {
      "name": "python"
    }
  },
  "cells": [
    {
      "cell_type": "code",
      "metadata": {
        "id": "jpU2YZT1Pb9i"
      },
      "source": [
        "import pandas as pd\n",
        "import matplotlib.pyplot as plt"
      ],
      "execution_count": null,
      "outputs": []
    },
    {
      "cell_type": "code",
      "metadata": {
        "id": "Uk49oMVKusE1"
      },
      "source": [
        "\n",
        "url_dados = 'https://github.com/alura-cursos/imersaodados3/blob/main/dados/dados_experimentos.zip?raw=true'\n",
        "\n",
        "dados = pd.read_csv(url_dados, compression = 'zip')\n",
        "dados\n",
        "\n",
        "# o compression = 'zip' descompacta o documento"
      ],
      "execution_count": null,
      "outputs": []
    },
    {
      "cell_type": "code",
      "metadata": {
        "id": "dtz9WiWaTJD6"
      },
      "source": [
        "dados.head()"
      ],
      "execution_count": null,
      "outputs": []
    },
    {
      "cell_type": "code",
      "metadata": {
        "id": "HqpqfSQYT4am"
      },
      "source": [
        "dados.shape\n",
        "#informação do total de linhas e colunas"
      ],
      "execution_count": null,
      "outputs": []
    },
    {
      "cell_type": "code",
      "metadata": {
        "id": "_VC9kDHGULHx"
      },
      "source": [
        "dados['tratamento']\n",
        "#selecionada somente a serie tratamento"
      ],
      "execution_count": null,
      "outputs": []
    },
    {
      "cell_type": "code",
      "metadata": {
        "id": "lkl4TthuUa0V"
      },
      "source": [
        "dados['tratamento'].unique()\n",
        "#mostra quais são os valores unicos encontrados na tabela unica"
      ],
      "execution_count": null,
      "outputs": []
    },
    {
      "cell_type": "code",
      "metadata": {
        "id": "gXZIbCRsVbjG"
      },
      "source": [
        "dados['tempo'].unique()"
      ],
      "execution_count": null,
      "outputs": []
    },
    {
      "cell_type": "code",
      "metadata": {
        "id": "VjJTqK-AdJJ5"
      },
      "source": [
        "dados['dose'].unique()"
      ],
      "execution_count": null,
      "outputs": []
    },
    {
      "cell_type": "code",
      "metadata": {
        "id": "MgytUwacdO8V"
      },
      "source": [
        "dados['droga'].unique()"
      ],
      "execution_count": null,
      "outputs": []
    },
    {
      "cell_type": "code",
      "metadata": {
        "id": "KRCJpT1beWFj"
      },
      "source": [
        "dados['g-0'].unique()\n",
        "\n",
        "# esses números nos dizem a expressão de cada gene frente as drogas ou a exposição."
      ],
      "execution_count": null,
      "outputs": []
    },
    {
      "cell_type": "code",
      "metadata": {
        "id": "tH2CnGg6ewxJ"
      },
      "source": [
        "dados['tratamento'].value_counts()\n",
        "\n",
        "#quantidade de valores que tem em cada um das colunas "
      ],
      "execution_count": null,
      "outputs": []
    },
    {
      "cell_type": "code",
      "metadata": {
        "id": "Fe-sLmycg-wW"
      },
      "source": [
        "dados['dose'].value_counts()"
      ],
      "execution_count": null,
      "outputs": []
    },
    {
      "cell_type": "code",
      "metadata": {
        "id": "nou5ef1Mjdn7"
      },
      "source": [
        "dados['droga'].value_counts()"
      ],
      "execution_count": null,
      "outputs": []
    },
    {
      "cell_type": "code",
      "metadata": {
        "id": "xiyCmSjdj9QF"
      },
      "source": [
        "dados['tratamento'].value_counts(normalize = True)\n",
        "\n",
        "#calcula a normalização dos dados, calculando assim a proporção entre os dados de tratamento"
      ],
      "execution_count": null,
      "outputs": []
    },
    {
      "cell_type": "code",
      "metadata": {
        "id": "2U5RXGWIkkq6"
      },
      "source": [
        "dados['dose'].value_counts(normalize = True)"
      ],
      "execution_count": null,
      "outputs": []
    },
    {
      "cell_type": "code",
      "metadata": {
        "id": "t0sKyarAksYT"
      },
      "source": [
        "dados['tratamento'].value_counts().plot.pie()"
      ],
      "execution_count": null,
      "outputs": []
    },
    {
      "cell_type": "code",
      "metadata": {
        "id": "oVihB3-5k5u2"
      },
      "source": [
        "dados['tempo'].value_counts().plot.pie()\n",
        "#essa forma não é muito facil de ver a diferença entre os valores, pois o balanceamento entre os valores está muito proximo"
      ],
      "execution_count": null,
      "outputs": []
    },
    {
      "cell_type": "code",
      "metadata": {
        "id": "htyUseRillmK"
      },
      "source": [
        "dados['tempo'].value_counts().plot.bar()\n",
        "\n",
        "#é interessante estudar cada tipo de grafico e também as melhores situações para utilizar cada um deles"
      ],
      "execution_count": null,
      "outputs": []
    },
    {
      "cell_type": "code",
      "metadata": {
        "id": "1WTfBK5Go24l"
      },
      "source": [
        "dados_filtrados = dados[dados['g-0'] > 0]\n",
        "dados_filtrados.head()\n",
        "\n",
        "#Analisa quais sao os valores de g-0 que são maiores que 0"
      ],
      "execution_count": null,
      "outputs": []
    },
    {
      "cell_type": "code",
      "metadata": {
        "id": "oqanP_xQpjwj"
      },
      "source": [
        "dados.columns\n"
      ],
      "execution_count": null,
      "outputs": []
    },
    {
      "cell_type": "code",
      "metadata": {
        "id": "eKzY76sdsR4G"
      },
      "source": [
        "nome_das_colunas = dados.columns"
      ],
      "execution_count": null,
      "outputs": []
    },
    {
      "cell_type": "code",
      "metadata": {
        "id": "9R10Mwo6tp6T"
      },
      "source": [
        "novo_nome_coluna = []\n",
        "\n",
        "for coluna in nome_das_colunas:\n",
        "  coluna = coluna.replace('-', '_')\n",
        "  novo_nome_coluna.append(coluna)\n",
        "dados.columns = novo_nome_coluna \n",
        "\n",
        "dados.head()\n",
        "\n",
        "#Esse for roda todo o array e faz a substituição dos nomes das colunas, nas colunas\n",
        "#que tem o '-' ele vai substituir por '_'"
      ],
      "execution_count": null,
      "outputs": []
    },
    {
      "cell_type": "code",
      "metadata": {
        "id": "aiQyhx2KuPFj"
      },
      "source": [
        "dados_filtrados = dados[dados['g_0'] > 0]\n",
        "dados_filtrados.head()\n",
        "\n",
        "#comparação do resultado usando Query com o resultado usando máscara + slice"
      ],
      "execution_count": null,
      "outputs": []
    },
    {
      "cell_type": "code",
      "metadata": {
        "id": "Q1uzH4GiuUj_"
      },
      "source": [
        "dados_filtrados = dados.query('g_0 > 0')\n",
        "dados_filtrados.head()"
      ],
      "execution_count": null,
      "outputs": []
    },
    {
      "cell_type": "markdown",
      "metadata": {
        "id": "ZE-hUf2jwBSP"
      },
      "source": [
        "Deixando os graficos mais bonitin hahaha"
      ]
    },
    {
      "cell_type": "code",
      "metadata": {
        "id": "_S0xCwtBv7nP"
      },
      "source": [
        "valore_tempo = dados['tempo'].value_counts(ascending=True)\n",
        "valore_tempo.sort_index()"
      ],
      "execution_count": null,
      "outputs": []
    },
    {
      "cell_type": "code",
      "metadata": {
        "id": "CCeXtowpwJYS"
      },
      "source": [
        "plt.figure(figsize=(15, 10))\n",
        "valore_tempo = dados['tempo'].value_counts(ascending=True)\n",
        "ax = valore_tempo.sort_index().plot.bar()\n",
        "ax.set_title('Janelas de tempo', fontsize=20)\n",
        "ax.set_xlabel('Tempo', fontsize=18)\n",
        "ax.set_ylabel('Quantidade', fontsize=18)\n",
        "plt.xticks(rotation = 0, fontsize=16)\n",
        "plt.yticks(fontsize=16)\n",
        "plt.show()"
      ],
      "execution_count": null,
      "outputs": []
    },
    {
      "cell_type": "code",
      "metadata": {
        "id": "B0q0jhY3Nzok"
      },
      "source": [
        "dados"
      ],
      "execution_count": null,
      "outputs": []
    },
    {
      "cell_type": "code",
      "metadata": {
        "id": "peT1doaixFxF"
      },
      "source": [
        "mapa = {'droga': 'composto'}\n",
        "dados.rename(columns=mapa, inplace=True)\n",
        "\n",
        "#altera o nome da coluna 'droga' por 'composto'\n",
        "#parâmetro 'inplace = True', esse parâmetro faz com que os dados sejam modificados no local e o dataframe será atualizado. "
      ],
      "execution_count": null,
      "outputs": []
    },
    {
      "cell_type": "code",
      "metadata": {
        "id": "_Nc-Mcuq3UZH"
      },
      "source": [
        "dados.head()"
      ],
      "execution_count": null,
      "outputs": []
    },
    {
      "cell_type": "code",
      "metadata": {
        "id": "yJB-ini22vL2"
      },
      "source": [
        "cod_compostos = dados['composto'].value_counts().index[0:5]\n",
        "#elenca os 5 compostos que mais aparecem. "
      ],
      "execution_count": null,
      "outputs": []
    },
    {
      "cell_type": "code",
      "metadata": {
        "id": "ehdt25yD4dO6"
      },
      "source": [
        "cod_compostos"
      ],
      "execution_count": null,
      "outputs": []
    },
    {
      "cell_type": "code",
      "metadata": {
        "id": "Z2fNH2qnMoGu"
      },
      "source": [
        "dados.query('composto in @cod_compostos')\n",
        "#realiza um filtro em nossos dados, selecionando apenas as linhas nas quais o \n",
        "#composto esteja dentro da lista cod_composto (lista que representa os 5 compostos mais testados no experimento) \n",
        "#e utiliza o método query para resolver este problema.\n",
        "\n",
        "#Como parâmetro da função, passamos uma string contendo a lógica para realização \n",
        "#da seleção dos dados. O que queremos é o seguinte: o queryprecisa retornar para \n",
        "#nós todas as linhas contendo os 5 compostos mais utilizados. Logo, a string necessária para isso é: composto in @cod_compostos.\n",
        "\n",
        "#Usamos composto porque essa é a coluna a ser verificada no dataframe e cod_compostos \n",
        "#por ser a lista com os top 5 compostos, o detalhe aqui é que o @ é necessário para \n",
        "#informar o query que cod_composto é uma variável que já foi definida fora da função."
      ],
      "execution_count": null,
      "outputs": []
    },
    {
      "cell_type": "code",
      "metadata": {
        "id": "kEnOYUSHOAX2"
      },
      "source": [
        "import seaborn as sns\n",
        "import matplotlib.pyplot as plt\n",
        "sns.set()\n",
        "plt.figure(figsize=(8, 6))\n",
        "ax = sns.countplot(x = 'composto', data=dados.query('composto in @cod_compostos'))\n",
        "ax.set_title('Top 5 compostos')\n",
        "plt.show()\n",
        "\n",
        "#O countplot é um gráfico pré-programado da biblioteca Seaborne, por isso, precisaremos fazer a importação padrão da mesma (import seaborn as sns)\n",
        "#para que possamos enxergar o gráfico com os padrões de configuração da biblioteca, precisamos rodar sns.set()"
      ],
      "execution_count": null,
      "outputs": []
    },
    {
      "cell_type": "code",
      "metadata": {
        "id": "x-KIyIK9PmPw"
      },
      "source": [
        "len(dados['g_0'].unique())\n",
        "#Como temos diversos compostos únicos dentro da coluna g-0, não é viável que façamos o mesmo gráfico utilizado anteriormente. Por isso, precisamos traçar uma nova estratégia para visualizar os nossos dadose aqui, usaremos um histograma. O primeiro passo, é identificar qual o valor mínimo (min()) e o valor máximo (max()) \n",
        "#para entender qual o intervalo númerico com o qual estamos trabalhando."
      ],
      "execution_count": null,
      "outputs": []
    },
    {
      "cell_type": "code",
      "metadata": {
        "id": "mYlxevUlTEjE"
      },
      "source": [
        "dados['g_0'].min()"
      ],
      "execution_count": null,
      "outputs": []
    },
    {
      "cell_type": "code",
      "metadata": {
        "id": "r6zwduREUe9M"
      },
      "source": [
        "dados['g_0'].max()"
      ],
      "execution_count": null,
      "outputs": []
    },
    {
      "cell_type": "code",
      "metadata": {
        "id": "bS9m7DK6VPcO"
      },
      "source": [
        "dados['g_0'].hist(bins = 100, figsize=(20, 6))"
      ],
      "execution_count": null,
      "outputs": []
    },
    {
      "cell_type": "code",
      "metadata": {
        "id": "zAxKtAlMWaGD"
      },
      "source": [
        "dados['g_19'].hist(bins = 100, figsize=(20, 6))"
      ],
      "execution_count": null,
      "outputs": []
    },
    {
      "cell_type": "code",
      "metadata": {
        "id": "zd9OdSZvXJMv"
      },
      "source": [
        "dados.describe()\n",
        "#olha as descrições das estatisticas"
      ],
      "execution_count": null,
      "outputs": []
    },
    {
      "cell_type": "code",
      "metadata": {
        "id": "su5YCaymXiB7"
      },
      "source": [
        "dados.loc[:,'g_0':'g_771'].describe()\n",
        "#Como argumentos, passamos primeiramente o :, os dois pontos faz com que o loc[] retorne todos os elementos de uma \n",
        "#determinada coluna, isso é importante quando não sabemos qual a quantidade de linhas de um dataframe. E, o segundo\n",
        "# elemento, passamos as colunas que são de nosso interesse. No caso, queremos que a função nos retorne todos os elementos das colunas g-0até g-771. \n",
        "#E, por fim, podemos declarar a nossa função de interesse a partir deste filtro realizado nos dados, o describe()."
      ],
      "execution_count": null,
      "outputs": []
    },
    {
      "cell_type": "code",
      "metadata": {
        "id": "jBayQLAPYPr5"
      },
      "source": [
        "dados.loc[:,'g_0':'g_771'].describe().T['mean'].hist(bins=30, figsize=(20, 6))\n",
        "\n",
        "#trasforma as linhas em colunas\n"
      ],
      "execution_count": null,
      "outputs": []
    },
    {
      "cell_type": "code",
      "metadata": {
        "id": "lpoT_EwMaYiM"
      },
      "source": [
        "dados.loc[:,'g_0':'g_771'].describe().T['min'].hist(bins=30)"
      ],
      "execution_count": null,
      "outputs": []
    },
    {
      "cell_type": "code",
      "metadata": {
        "id": "gQ6M4vnSgFGK"
      },
      "source": [
        "dados.loc[:,'g_0':'g_771'].describe().T['max'].hist(bins=30)"
      ],
      "execution_count": null,
      "outputs": []
    },
    {
      "cell_type": "code",
      "metadata": {
        "id": "9zPa_3nKgd7r"
      },
      "source": [
        "sns.boxplot(x='g_0' , data=dados)\n",
        "#O boxplot apresenta uma caixa no meio onde podemos identificar a mediana (linha \n",
        "#no meio da caixa que é o ponto onde metade dos dados estão na direita e a outra \n",
        "#metade para a esquerda), os outliers (pontos acima ou abaixo do eixo principal do \n",
        "#gráfico que representam valores discrepantes para mais ou para menos), a maior \n",
        "#concentração dos dados (caixa principal que representa onde está a mior parte dos dados - \n",
        "#primeiro quartil (25%) e terceiro quartil (75%)) e os máximos e mínimos desconsiderando os \n",
        "#outliers (linhas laterais à caixa principal). \n",
        "#O boxplot é uma importante ferramenta na visualização de dados porque em apenas um gráfico, podemos identificar várias métricas estatísticas."
      ],
      "execution_count": null,
      "outputs": []
    },
    {
      "cell_type": "code",
      "metadata": {
        "id": "ppKlWA7khyGQ"
      },
      "source": [
        "plt.figure(figsize=(10,8))\n",
        "sns.boxplot(y='g_0', x='tratamento' , data=dados)"
      ],
      "execution_count": null,
      "outputs": []
    },
    {
      "cell_type": "code",
      "metadata": {
        "id": "tJiVIoWLjIAd"
      },
      "source": [
        "pd.crosstab(dados['dose'], dados['tempo'])\n",
        "#Esta função recebe como argumentos os dados que gostaríamos de correlacionar de \n",
        "#uma maneira bem simples: crosstab(dataframe['coluna1'], dataframe['coluna2']) e \n",
        "#então, como retorno, temos uma matriz que relaciona essas variáveis a partir da frequência.\n",
        "\n",
        "#Podemos ver que as categorias da variável dose transformaram-se em linhas e as categorias da variável tempo são colunas."
      ],
      "execution_count": null,
      "outputs": []
    },
    {
      "cell_type": "code",
      "metadata": {
        "id": "qJzka8XgjSnN"
      },
      "source": [
        "pd.crosstab([dados['dose'], dados['tempo']],  dados['tratamento'])\n"
      ],
      "execution_count": null,
      "outputs": []
    },
    {
      "cell_type": "code",
      "metadata": {
        "id": "UNILs83LlAzG"
      },
      "source": [
        "pd.crosstab([dados['dose'], dados['tempo']],  dados['tratamento'], values=dados['g_0'], aggfunc='mean')"
      ],
      "execution_count": null,
      "outputs": []
    },
    {
      "cell_type": "code",
      "metadata": {
        "id": "lfwtfO7plT8s"
      },
      "source": [
        "dados[['g_0', 'g_3']]"
      ],
      "execution_count": null,
      "outputs": []
    },
    {
      "cell_type": "markdown",
      "metadata": {
        "id": "NM0H90nzlfni"
      },
      "source": [
        "O scatterplot é um tipo de gráfico pré programado da biblioteca Seaborn e recebe como parâmetros a variável que vai ser usada no eixo x, a variável do eixo y e, por fim, o conjunto de dados.\n",
        "\n",
        "O código ficará:\n",
        "\n",
        "sns.scatterplot(x = 'variavel para o eixo x', y = 'variavel para o eixo y', data = base de dados)\n",
        "\n",
        "E, como queremos investigar as variáveis g-0 e g-3, atribuímos cada uma delas a um eixo.\n",
        "\n",
        "O gráfico de dispersão utiliza os dados como uma coleção de pontos cartesianos e ele é usado para apurar se há relação de causa e efeito entre duas variáveis quantitativas.\n",
        "\n",
        "No nosso caso, cada linha será um par ordenado de acordo com o que declaramos no código, ou seja, o valor de g-0 será a cordenada x e o valor de g-3 será a coordenada y.\n",
        "\n",
        "Por exemplo: para a linha 0 da base de dados teremos (1,0620 , -0,6208)\n",
        "\n",
        "Mas, por outro lado, a partir do gráfico de dispersão, não podemos dizer que uma variável afeta a outra, podemos apenas definir se há relação entre elas e qual a intensidade disso."
      ]
    },
    {
      "cell_type": "code",
      "metadata": {
        "id": "a19sr_SFlhm2"
      },
      "source": [
        "sns.scatterplot(x='g_0', y = 'g_3', data=dados)"
      ],
      "execution_count": null,
      "outputs": []
    },
    {
      "cell_type": "markdown",
      "metadata": {
        "id": "cgMs-By1l-AR"
      },
      "source": [
        "Observando o gráfico que construímos acima, não parecemos encontrar nenhum padrão tão definido. Então, vamos confrontar mais duas colunas para verificar se encontramos algum padrão melhor definido.\n",
        "\n",
        "Aqui, vamos usar a variável g-0 para o eixo x e a variável g-8 para o eixo y para construir o nosso novo gráfico.\n",
        "\n",
        "Como retorno, recebemos um gráfico de dispersão onde a nuvem de pontos cartesianos parece desenhar melhor um padrão: conforme o g-0 aumenta, o valor de g-8 diminui. Aparentemente, a relação entre essas duas variáveis desenha uma curva com inclinação negativa."
      ]
    },
    {
      "cell_type": "code",
      "metadata": {
        "id": "IE29BuQ9mA2h"
      },
      "source": [
        "sns.scatterplot(x='g_0', y = 'g_8', data=dados)"
      ],
      "execution_count": null,
      "outputs": []
    },
    {
      "cell_type": "markdown",
      "metadata": {
        "id": "wZNkBVhwmPO5"
      },
      "source": [
        "E, como parte do nosso trabalho é levantar hipóteses e confirmá-las (ou não), precisamos verificar se a nossa suspeita de que a relação entre as variáveis g-0 e g-8desenha uma curva com inclinação negativa.\n",
        "\n",
        "Para isso, vamos utilizar uma outra função do Seaborn, a lmplot. A lmplot vai desenhar no nosso gráfico de dispersão uma linha de tendência e, assim, poderemos confirmar o padrão daquele conjunto de dados.\n",
        "\n",
        "Os parâmetros a serem recebidos, são muito parecidos com aqueles usados no scatterplot. Então teremos\n",
        "\n",
        "sns.lmplot(data=base de dados, x='variavel para o eixo x', y='variavel para o eixo y', line_kws={'color': 'cor da linha de tendencia'})\n",
        "\n",
        "Utilizamos o parâmetro line_kws = {'color': 'red'} para criar um bom contraste entre os pontos do gráfico de dispersão e a linha de tendência.\n",
        "\n",
        "Observando o nosso gráfico, podemos concluir a nossa hipótese inicial, mas ele ainda não é suficiente para finalizarmos a nossa análise."
      ]
    },
    {
      "cell_type": "code",
      "metadata": {
        "id": "dnhsfAcHmR9-"
      },
      "source": [
        "sns.lmplot(data=dados, x='g_0', y='g_8', line_kws={'color': 'red'})"
      ],
      "execution_count": null,
      "outputs": []
    },
    {
      "cell_type": "markdown",
      "metadata": {
        "id": "RxK_cOLUma8N"
      },
      "source": [
        "Para uma análise mais real e completa, é interessante que separemos ainda mais o nosso conjunto de dados. Isso porque, na imagem acima, apesar de termos uma linha de tendência para a relação entre os dados ```g-0``` e ```g-8```, não há filtros para a dosagem, o tratamento e o tempo. E, pesando em drug discorevy, é extremamente importante que façamos a separação desses conjuntos.\n",
        "\n",
        "Então, vamos acrescentar mais alguns parâmetros para executar a separação. Acrescentamos o parâmetro ```col = tramento``` para que sejam plotados gráficos de acordo com as categorias da variável em questão nas colunas (```com_droga``` e ```com_controle```) e também incluímos o parâmetro ```row = 'tempo'``` para que mais uma subdivisão seja feita e, as linhas apresentem novos gráficos com as diferentes categorias (```24```,```48``` e ```72```).\n",
        "\n",
        "Assim, podemos perceber as nuances de cada gráfico e o comportamento de determinado subconjunto."
      ]
    },
    {
      "cell_type": "code",
      "metadata": {
        "id": "IU0nhcqEmiEk"
      },
      "source": [
        "sns.lmplot(data=dados, x='g_0', y='g_8', line_kws={'color': 'red'}, col='tratamento', row='tempo')"
      ],
      "execution_count": null,
      "outputs": []
    },
    {
      "cell_type": "markdown",
      "metadata": {
        "id": "QQRN3G7tmxpd"
      },
      "source": [
        "Outra medida para analisar como as variáveis estão associadas é a correlação. \n",
        "\n",
        "Para isso, vamos usar uma função já conhecida do Pandas, o ```loc``` e, vamos agregar o ```.corr```. O ```loc``` serve para definirmos o intervalo em que a correlação vai ser calculada. Aqui, estamos calculando a correlação entre todos os genes. \n",
        "\n",
        "Como retorno, temos uma tabela bem grande que correlaciona a variável e apresenta valores entre 1 e -1.\n",
        "Por exemplo, o primeiro valor numérico apresentado na primeira linha é o resultado da correlação entre a variável que está nesta linha e nesta coluna, no nosso caso, o ```g-0``` em ambas as extremidades. No primeiro valor numérico apresentado na segunda linha, temos a correlação entre ```g-1``` e ```g-0``` e assim por diante. \n",
        "\n",
        "Mas, como interpretar esses valores? Bom, temos a seguinte divisão:\n",
        "    \n",
        "    - Valores muito próximos de 1 ou -1: variáveis altamente correlacionadas\n",
        "    - Valores muito próximos de 0: variáveis pouco ou não correlacionadas\n",
        "\n",
        "E, o que diferencia se essa correlação será proporcional ou inversamente proporcional, será o sinal. Quer dizer:\n",
        "\n",
        "    - Valores muito próximos de 1: variáveis proporcionalmente correlacionadas\n",
        "    - Valores muito próximos de -1: variáveis correlacionadas inversamente proporcionais\n",
        "\n",
        "Agora que já sabemos como analisar essa tabela, podemos voltar para o nosso gráfico de dispersão construído com ```g-0``` e ```g-8`` e perceber que a nossa tabela confirma que ambas as variáveis estão correlacionadas e são inversamente proporcionais, visto que o valor apresentado na tabela é de -0,604212."
      ]
    },
    {
      "cell_type": "code",
      "metadata": {
        "id": "T-9bL5IHmq4H"
      },
      "source": [
        "dados.loc[:,'g_0':'g_771'].corr()"
      ],
      "execution_count": null,
      "outputs": []
    },
    {
      "cell_type": "code",
      "metadata": {
        "id": "8-lPCeSAni5T"
      },
      "source": [
        "corr = dados.loc[:,'g_0':'g_50'].corr()"
      ],
      "execution_count": null,
      "outputs": []
    },
    {
      "cell_type": "markdown",
      "metadata": {
        "id": "S5sJRux-nKj5"
      },
      "source": [
        "O mapa de calor mostra uma escala de cores em sua lateral direita, a legenda e, para cada pontinho, podemos perceber a força da correlação sendo mostrada através de uma cor associada.\n",
        "\n",
        "Olhando para o nosso gráfico, percebemos que, em sua maioria, as expressões genicas não apresentam correlações tão altas entre si (podemos deduzir isso observando que o gráfico em grande parte é translúcido).\n",
        "\n",
        "É importante destacar que não podemos inferir causalidade a partir da correlação, como já descrevemos anteriormente no gráfico de dispersão. \n",
        "Exemplificando: vimos que ```g-0``` e ```g-8``` têm correlação inversamente proporcional entre si mas não podemos concluir que é o ```g-0``` que faz o ```g-8``` diminuir, ou seja, a causa.\n",
        "\n"
      ]
    },
    {
      "cell_type": "code",
      "metadata": {
        "id": "emjHUbkMnQHj"
      },
      "source": [
        "import numpy as np\n",
        "\n",
        "\n",
        "# Generate a mask for the upper triangle\n",
        "mask = np.triu(np.ones_like(corr, dtype=bool))\n",
        "\n",
        "# Set up the matplotlib figure\n",
        "f, ax = plt.subplots(figsize=(11, 9))\n",
        "\n",
        "# Generate a custom diverging colormap\n",
        "cmap = sns.diverging_palette(230, 20, as_cmap=True)\n",
        "\n",
        "# Draw the heatmap with the mask and correct aspect ratio\n",
        "sns.heatmap(corr, mask=mask, cmap=cmap, center=0,\n",
        "            square=True, linewidths=.5, cbar_kws={\"shrink\": .5})"
      ],
      "execution_count": null,
      "outputs": []
    },
    {
      "cell_type": "markdown",
      "metadata": {
        "id": "NyWD4pCKn3Rh"
      },
      "source": [
        "Agora, vamos repetir o processo de construção do mapa de calor para a a viabilidade celular (```c```).\n",
        "\n",
        "Definimos uma nova variável ```corr_celular``` e ajustamos os parâmetros de acordo com os nossos ```cs```.\n",
        "\n",
        "Observando o gráfico de saída, podemos perceber uma grande diferença entre os dois mapas de calor que construímos. A escala deste novo gráfico é bem diferente da escala anterior, temos valores apenas entre 0,65 e 0,90, correlações altamente proporcionais."
      ]
    },
    {
      "cell_type": "code",
      "metadata": {
        "id": "mR7-EgRgnwxk"
      },
      "source": [
        "corr_celular = dados.loc[:,'c_0':'c_50'].corr()"
      ],
      "execution_count": null,
      "outputs": []
    },
    {
      "cell_type": "code",
      "metadata": {
        "id": "uje2Dg7Jn8H5"
      },
      "source": [
        "\n",
        "# Generate a mask for the upper triangle\n",
        "mask = np.triu(np.ones_like(corr_celular, dtype=bool))\n",
        "\n",
        "# Set up the matplotlib figure\n",
        "f, ax = plt.subplots(figsize=(11, 9))\n",
        "\n",
        "# Generate a custom diverging colormap\n",
        "cmap = sns.diverging_palette(230, 20, as_cmap=True)\n",
        "\n",
        "# Draw the heatmap with the mask and correct aspect ratio\n",
        "sns.heatmap(corr_celular, mask=mask, cmap=cmap, center=0,\n",
        "            square=True, linewidths=.5, cbar_kws={\"shrink\": .5})"
      ],
      "execution_count": null,
      "outputs": []
    },
    {
      "cell_type": "code",
      "metadata": {
        "id": "IwDlnAUppf6z"
      },
      "source": [
        "dados_resultados = pd.read_csv('https://github.com/alura-cursos/imersaodados3/blob/main/dados/dados_resultados.csv?raw=true')\n",
        "dados_resultados.head()"
      ],
      "execution_count": null,
      "outputs": []
    },
    {
      "cell_type": "code",
      "metadata": {
        "id": "rYegnBogqXd-"
      },
      "source": [
        "dados_resultados['acetylcholine_receptor_agonist'].unique()"
      ],
      "execution_count": null,
      "outputs": []
    },
    {
      "cell_type": "code",
      "metadata": {
        "id": "8WF3YdVCqaKp"
      },
      "source": [
        "dados_resultados.info()"
      ],
      "execution_count": null,
      "outputs": []
    },
    {
      "cell_type": "code",
      "metadata": {
        "id": "4Zx1pUQfqdV2"
      },
      "source": [
        "contagem_moa = dados_resultados.drop('id', axis=1).sum().sort_values(ascending=False)\n",
        "contagem_moa"
      ],
      "execution_count": null,
      "outputs": []
    },
    {
      "cell_type": "code",
      "metadata": {
        "id": "o19MbrLQqibI"
      },
      "source": [
        "dados_resultados.drop('id', axis=1).sum(axis=1)"
      ],
      "execution_count": null,
      "outputs": []
    },
    {
      "cell_type": "code",
      "metadata": {
        "id": "P5EBVLaQqloS"
      },
      "source": [
        "dados_resultados.head()"
      ],
      "execution_count": null,
      "outputs": []
    },
    {
      "cell_type": "code",
      "metadata": {
        "id": "Hrz951CBqpkf"
      },
      "source": [
        "dados.head()"
      ],
      "execution_count": null,
      "outputs": []
    },
    {
      "cell_type": "code",
      "metadata": {
        "id": "FQLrS-4bqsLy"
      },
      "source": [
        "dados_resultados['n_moa'] = dados_resultados.drop('id', axis=1).sum(axis=1)"
      ],
      "execution_count": null,
      "outputs": []
    },
    {
      "cell_type": "code",
      "metadata": {
        "id": "0sRt9FKHqw3s"
      },
      "source": [
        "dados_resultados['n_moa'] != 0"
      ],
      "execution_count": null,
      "outputs": []
    },
    {
      "cell_type": "code",
      "metadata": {
        "id": "YwB930ghq1FG"
      },
      "source": [
        "dados_resultados['ativo_moa'] = (dados_resultados['n_moa'] != 0)\n",
        "dados_resultados.head()"
      ],
      "execution_count": null,
      "outputs": []
    },
    {
      "cell_type": "code",
      "metadata": {
        "id": "vKBzB6BmrdWO"
      },
      "source": [
        " dados_combinados = pd.merge(dados, dados_resultados[['id','n_moa', 'ativo_moa']], on='id')\n",
        " dados_combinados.head()"
      ],
      "execution_count": null,
      "outputs": []
    },
    {
      "cell_type": "code",
      "metadata": {
        "id": "0dKsZ6__rfzr"
      },
      "source": [
        "dados_combinados.query('tratamento == \"com_controle\"' )['ativo_moa'].value_counts()"
      ],
      "execution_count": null,
      "outputs": []
    },
    {
      "cell_type": "code",
      "metadata": {
        "id": "cPp78qtirxVM"
      },
      "source": [
        "dados_combinados.query('tratamento == \"com_droga\"' )['ativo_moa'].value_counts()"
      ],
      "execution_count": null,
      "outputs": []
    },
    {
      "cell_type": "code",
      "metadata": {
        "id": "d3I3YzACr5Aj"
      },
      "source": [
        "composto_principal = dados_combinados['composto'].value_counts().index[:5]\n",
        "plt.figure(figsize=(12,8))\n",
        "sns.boxplot(data = dados_combinados.query('composto in @composto_principal'), y= 'g_0', x='composto', hue='ativo_moa')\n"
      ],
      "execution_count": null,
      "outputs": []
    },
    {
      "cell_type": "code",
      "metadata": {
        "id": "lzZhdz1Qr8RT"
      },
      "source": [
        "dados_combinados.head()"
      ],
      "execution_count": null,
      "outputs": []
    },
    {
      "cell_type": "code",
      "metadata": {
        "id": "9zewNvMYs21U"
      },
      "source": [
        "dados_resultados.head()"
      ],
      "execution_count": null,
      "outputs": []
    },
    {
      "cell_type": "code",
      "metadata": {
        "id": "Lng_hfLhs2zj"
      },
      "source": [
        ""
      ],
      "execution_count": null,
      "outputs": []
    }
  ]
}
