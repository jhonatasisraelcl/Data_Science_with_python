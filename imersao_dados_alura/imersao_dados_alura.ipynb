{
  "nbformat": 4,
  "nbformat_minor": 0,
  "metadata": {
    "colab": {
      "name": "imersao_dados_alura.ipynb",
      "private_outputs": true,
      "provenance": []
    },
    "kernelspec": {
      "name": "python3",
      "display_name": "Python 3"
    },
    "language_info": {
      "name": "python"
    }
  },
  "cells": [
    {
      "cell_type": "code",
      "metadata": {
        "id": "jpU2YZT1Pb9i"
      },
      "source": [
        "import pandas as pd\n",
        "import matplotlib.pyplot as plt"
      ],
      "execution_count": null,
      "outputs": []
    },
    {
      "cell_type": "code",
      "metadata": {
        "id": "Uk49oMVKusE1"
      },
      "source": [
        "\n",
        "url_dados = 'https://github.com/alura-cursos/imersaodados3/blob/main/dados/dados_experimentos.zip?raw=true'\n",
        "\n",
        "dados = pd.read_csv(url_dados, compression = 'zip')\n",
        "dados\n",
        "\n",
        "# o compression = 'zip' descompacta o documento"
      ],
      "execution_count": null,
      "outputs": []
    },
    {
      "cell_type": "code",
      "metadata": {
        "id": "dtz9WiWaTJD6"
      },
      "source": [
        "dados.head()"
      ],
      "execution_count": null,
      "outputs": []
    },
    {
      "cell_type": "code",
      "metadata": {
        "id": "HqpqfSQYT4am"
      },
      "source": [
        "dados.shape\n",
        "#informação do total de linhas e colunas"
      ],
      "execution_count": null,
      "outputs": []
    },
    {
      "cell_type": "code",
      "metadata": {
        "id": "_VC9kDHGULHx"
      },
      "source": [
        "dados['tratamento']\n",
        "#selecionada somente a serie tratamento"
      ],
      "execution_count": null,
      "outputs": []
    },
    {
      "cell_type": "code",
      "metadata": {
        "id": "lkl4TthuUa0V"
      },
      "source": [
        "dados['tratamento'].unique()\n",
        "#mostra quais são os valores unicos encontrados na tabela unica"
      ],
      "execution_count": null,
      "outputs": []
    },
    {
      "cell_type": "code",
      "metadata": {
        "id": "gXZIbCRsVbjG"
      },
      "source": [
        "dados['tempo'].unique()"
      ],
      "execution_count": null,
      "outputs": []
    },
    {
      "cell_type": "code",
      "metadata": {
        "id": "VjJTqK-AdJJ5"
      },
      "source": [
        "dados['dose'].unique()"
      ],
      "execution_count": null,
      "outputs": []
    },
    {
      "cell_type": "code",
      "metadata": {
        "id": "MgytUwacdO8V"
      },
      "source": [
        "dados['droga'].unique()"
      ],
      "execution_count": null,
      "outputs": []
    },
    {
      "cell_type": "code",
      "metadata": {
        "id": "KRCJpT1beWFj"
      },
      "source": [
        "dados['g-0'].unique()\n",
        "\n",
        "# esses números nos dizem a expressão de cada gene frente as drogas ou a exposição."
      ],
      "execution_count": null,
      "outputs": []
    },
    {
      "cell_type": "code",
      "metadata": {
        "id": "tH2CnGg6ewxJ"
      },
      "source": [
        "dados['tratamento'].value_counts()\n",
        "\n",
        "#quantidade de valores que tem em cada um das colunas "
      ],
      "execution_count": null,
      "outputs": []
    },
    {
      "cell_type": "code",
      "metadata": {
        "id": "Fe-sLmycg-wW"
      },
      "source": [
        "dados['dose'].value_counts()"
      ],
      "execution_count": null,
      "outputs": []
    },
    {
      "cell_type": "code",
      "metadata": {
        "id": "nou5ef1Mjdn7"
      },
      "source": [
        "dados['droga'].value_counts()"
      ],
      "execution_count": null,
      "outputs": []
    },
    {
      "cell_type": "code",
      "metadata": {
        "id": "xiyCmSjdj9QF"
      },
      "source": [
        "dados['tratamento'].value_counts(normalize = True)\n",
        "\n",
        "#calcula a normalização dos dados, calculando assim a proporção entre os dados de tratamento"
      ],
      "execution_count": null,
      "outputs": []
    },
    {
      "cell_type": "code",
      "metadata": {
        "id": "2U5RXGWIkkq6"
      },
      "source": [
        "dados['dose'].value_counts(normalize = True)"
      ],
      "execution_count": null,
      "outputs": []
    },
    {
      "cell_type": "code",
      "metadata": {
        "id": "t0sKyarAksYT"
      },
      "source": [
        "dados['tratamento'].value_counts().plot.pie()"
      ],
      "execution_count": null,
      "outputs": []
    },
    {
      "cell_type": "code",
      "metadata": {
        "id": "oVihB3-5k5u2"
      },
      "source": [
        "dados['tempo'].value_counts().plot.pie()\n",
        "#essa forma não é muito facil de ver a diferença entre os valores, pois o balanceamento entre os valores está muito proximo"
      ],
      "execution_count": null,
      "outputs": []
    },
    {
      "cell_type": "code",
      "metadata": {
        "id": "htyUseRillmK"
      },
      "source": [
        "dados['tempo'].value_counts().plot.bar()\n",
        "\n",
        "#é interessante estudar cada tipo de grafico e também as melhores situações para utilizar cada um deles"
      ],
      "execution_count": null,
      "outputs": []
    },
    {
      "cell_type": "code",
      "metadata": {
        "id": "1WTfBK5Go24l"
      },
      "source": [
        "dados_filtrados = dados[dados['g-0'] > 0]\n",
        "dados_filtrados.head()\n",
        "\n",
        "#Analisa quais sao os valores de g-0 que são maiores que 0"
      ],
      "execution_count": null,
      "outputs": []
    },
    {
      "cell_type": "code",
      "metadata": {
        "id": "oqanP_xQpjwj"
      },
      "source": [
        "dados.columns\n"
      ],
      "execution_count": null,
      "outputs": []
    },
    {
      "cell_type": "code",
      "metadata": {
        "id": "eKzY76sdsR4G"
      },
      "source": [
        "nome_das_colunas = dados.columns"
      ],
      "execution_count": null,
      "outputs": []
    },
    {
      "cell_type": "code",
      "metadata": {
        "id": "9R10Mwo6tp6T"
      },
      "source": [
        "novo_nome_coluna = []\n",
        "\n",
        "for coluna in nome_das_colunas:\n",
        "  coluna = coluna.replace('-', '_')\n",
        "  novo_nome_coluna.append(coluna)\n",
        "dados.columns = novo_nome_coluna \n",
        "\n",
        "dados.head()\n",
        "\n",
        "#Esse for roda todo o array e faz a substituição dos nomes das colunas, nas colunas\n",
        "#que tem o '-' ele vai substituir por '_'"
      ],
      "execution_count": null,
      "outputs": []
    },
    {
      "cell_type": "code",
      "metadata": {
        "id": "aiQyhx2KuPFj"
      },
      "source": [
        "dados_filtrados = dados[dados['g_0'] > 0]\n",
        "dados_filtrados.head()\n",
        "\n",
        "#comparação do resultado usando Query com o resultado usando máscara + slice"
      ],
      "execution_count": null,
      "outputs": []
    },
    {
      "cell_type": "code",
      "metadata": {
        "id": "Q1uzH4GiuUj_"
      },
      "source": [
        "dados_filtrados = dados.query('g_0 > 0')\n",
        "dados_filtrados.head()"
      ],
      "execution_count": null,
      "outputs": []
    },
    {
      "cell_type": "markdown",
      "metadata": {
        "id": "ZE-hUf2jwBSP"
      },
      "source": [
        "Deixando os graficos mais bonitin hahaha"
      ]
    },
    {
      "cell_type": "code",
      "metadata": {
        "id": "_S0xCwtBv7nP"
      },
      "source": [
        "valore_tempo = dados['tempo'].value_counts(ascending=True)\n",
        "valore_tempo.sort_index()"
      ],
      "execution_count": null,
      "outputs": []
    },
    {
      "cell_type": "code",
      "metadata": {
        "id": "CCeXtowpwJYS"
      },
      "source": [
        "plt.figure(figsize=(15, 10))\n",
        "valore_tempo = dados['tempo'].value_counts(ascending=True)\n",
        "ax = valore_tempo.sort_index().plot.bar()\n",
        "ax.set_title('Janelas de tempo', fontsize=20)\n",
        "ax.set_xlabel('Tempo', fontsize=18)\n",
        "ax.set_ylabel('Quantidade', fontsize=18)\n",
        "plt.xticks(rotation = 0, fontsize=16)\n",
        "plt.yticks(fontsize=16)\n",
        "plt.show()"
      ],
      "execution_count": null,
      "outputs": []
    },
    {
      "cell_type": "code",
      "metadata": {
        "id": "B0q0jhY3Nzok"
      },
      "source": [
        "dados"
      ],
      "execution_count": null,
      "outputs": []
    },
    {
      "cell_type": "code",
      "metadata": {
        "id": "peT1doaixFxF"
      },
      "source": [
        "mapa = {'droga': 'composto'}\n",
        "dados.rename(columns=mapa, inplace=True)\n",
        "\n",
        "#altera o nome da coluna 'droga' por 'composto'\n",
        "#parâmetro 'inplace = True', esse parâmetro faz com que os dados sejam modificados no local e o dataframe será atualizado. "
      ],
      "execution_count": null,
      "outputs": []
    },
    {
      "cell_type": "code",
      "metadata": {
        "id": "_Nc-Mcuq3UZH"
      },
      "source": [
        "dados.head()"
      ],
      "execution_count": null,
      "outputs": []
    },
    {
      "cell_type": "code",
      "metadata": {
        "id": "yJB-ini22vL2"
      },
      "source": [
        "cod_compostos = dados['composto'].value_counts().index[0:5]\n",
        "#elenca os 5 compostos que mais aparecem. "
      ],
      "execution_count": null,
      "outputs": []
    },
    {
      "cell_type": "code",
      "metadata": {
        "id": "ehdt25yD4dO6"
      },
      "source": [
        "cod_compostos"
      ],
      "execution_count": null,
      "outputs": []
    },
    {
      "cell_type": "code",
      "metadata": {
        "id": "Z2fNH2qnMoGu"
      },
      "source": [
        "dados.query('composto in @cod_compostos')\n",
        "#realiza um filtro em nossos dados, selecionando apenas as linhas nas quais o \n",
        "#composto esteja dentro da lista cod_composto (lista que representa os 5 compostos mais testados no experimento) \n",
        "#e utiliza o método query para resolver este problema.\n",
        "\n",
        "#Como parâmetro da função, passamos uma string contendo a lógica para realização \n",
        "#da seleção dos dados. O que queremos é o seguinte: o queryprecisa retornar para \n",
        "#nós todas as linhas contendo os 5 compostos mais utilizados. Logo, a string necessária para isso é: composto in @cod_compostos.\n",
        "\n",
        "#Usamos composto porque essa é a coluna a ser verificada no dataframe e cod_compostos \n",
        "#por ser a lista com os top 5 compostos, o detalhe aqui é que o @ é necessário para \n",
        "#informar o query que cod_composto é uma variável que já foi definida fora da função."
      ],
      "execution_count": null,
      "outputs": []
    },
    {
      "cell_type": "code",
      "metadata": {
        "id": "kEnOYUSHOAX2"
      },
      "source": [
        "import seaborn as sns\n",
        "import matplotlib.pyplot as plt\n",
        "sns.set()\n",
        "plt.figure(figsize=(8, 6))\n",
        "ax = sns.countplot(x = 'composto', data=dados.query('composto in @cod_compostos'))\n",
        "ax.set_title('Top 5 compostos')\n",
        "plt.show()\n",
        "\n",
        "#O countplot é um gráfico pré-programado da biblioteca Seaborne, por isso, precisaremos fazer a importação padrão da mesma (import seaborn as sns)\n",
        "#para que possamos enxergar o gráfico com os padrões de configuração da biblioteca, precisamos rodar sns.set()"
      ],
      "execution_count": null,
      "outputs": []
    },
    {
      "cell_type": "code",
      "metadata": {
        "id": "x-KIyIK9PmPw"
      },
      "source": [
        "len(dados['g_0'].unique())\n",
        "#Como temos diversos compostos únicos dentro da coluna g-0, não é viável que façamos o mesmo gráfico utilizado anteriormente. Por isso, precisamos traçar uma nova estratégia para visualizar os nossos dadose aqui, usaremos um histograma. O primeiro passo, é identificar qual o valor mínimo (min()) e o valor máximo (max()) \n",
        "#para entender qual o intervalo númerico com o qual estamos trabalhando."
      ],
      "execution_count": null,
      "outputs": []
    },
    {
      "cell_type": "code",
      "metadata": {
        "id": "mYlxevUlTEjE"
      },
      "source": [
        "dados['g_0'].min()"
      ],
      "execution_count": null,
      "outputs": []
    },
    {
      "cell_type": "code",
      "metadata": {
        "id": "r6zwduREUe9M"
      },
      "source": [
        "dados['g_0'].max()"
      ],
      "execution_count": null,
      "outputs": []
    },
    {
      "cell_type": "code",
      "metadata": {
        "id": "bS9m7DK6VPcO"
      },
      "source": [
        "dados['g_0'].hist(bins = 100, figsize=(20, 6))"
      ],
      "execution_count": null,
      "outputs": []
    },
    {
      "cell_type": "code",
      "metadata": {
        "id": "zAxKtAlMWaGD"
      },
      "source": [
        "dados['g_19'].hist(bins = 100, figsize=(20, 6))"
      ],
      "execution_count": null,
      "outputs": []
    },
    {
      "cell_type": "code",
      "metadata": {
        "id": "zd9OdSZvXJMv"
      },
      "source": [
        "dados.describe()\n",
        "#olha as descrições das estatisticas"
      ],
      "execution_count": null,
      "outputs": []
    },
    {
      "cell_type": "code",
      "metadata": {
        "id": "su5YCaymXiB7"
      },
      "source": [
        "dados.loc[:,'g_0':'g_771'].describe()\n",
        "#Como argumentos, passamos primeiramente o :, os dois pontos faz com que o loc[] retorne todos os elementos de uma \n",
        "#determinada coluna, isso é importante quando não sabemos qual a quantidade de linhas de um dataframe. E, o segundo\n",
        "# elemento, passamos as colunas que são de nosso interesse. No caso, queremos que a função nos retorne todos os elementos das colunas g-0até g-771. \n",
        "#E, por fim, podemos declarar a nossa função de interesse a partir deste filtro realizado nos dados, o describe()."
      ],
      "execution_count": null,
      "outputs": []
    },
    {
      "cell_type": "code",
      "metadata": {
        "id": "jBayQLAPYPr5"
      },
      "source": [
        "dados.loc[:,'g_0':'g_771'].describe().T['mean'].hist(bins=30, figsize=(20, 6))\n",
        "\n",
        "#trasforma as linhas em colunas\n"
      ],
      "execution_count": null,
      "outputs": []
    }
  ]
}
