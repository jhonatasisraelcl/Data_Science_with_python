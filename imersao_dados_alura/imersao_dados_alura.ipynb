{
  "nbformat": 4,
  "nbformat_minor": 0,
  "metadata": {
    "colab": {
      "name": "imersao_dados_alura.ipynb",
      "private_outputs": true,
      "provenance": []
    },
    "kernelspec": {
      "name": "python3",
      "display_name": "Python 3"
    },
    "language_info": {
      "name": "python"
    }
  },
  "cells": [
    {
      "cell_type": "code",
      "metadata": {
        "id": "jpU2YZT1Pb9i"
      },
      "source": [
        "import pandas as pd\n",
        "import matplotlib.pyplot as plt"
      ],
      "execution_count": null,
      "outputs": []
    },
    {
      "cell_type": "code",
      "metadata": {
        "id": "Uk49oMVKusE1"
      },
      "source": [
        "\n",
        "url_dados = 'https://github.com/alura-cursos/imersaodados3/blob/main/dados/dados_experimentos.zip?raw=true'\n",
        "\n",
        "dados = pd.read_csv(url_dados, compression = 'zip')\n",
        "dados\n",
        "\n",
        "# o compression = 'zip' descompacta o documento"
      ],
      "execution_count": null,
      "outputs": []
    },
    {
      "cell_type": "code",
      "metadata": {
        "id": "dtz9WiWaTJD6"
      },
      "source": [
        "dados.head()"
      ],
      "execution_count": null,
      "outputs": []
    },
    {
      "cell_type": "code",
      "metadata": {
        "id": "HqpqfSQYT4am"
      },
      "source": [
        "dados.shape\n",
        "#informação do total de linhas e colunas"
      ],
      "execution_count": null,
      "outputs": []
    },
    {
      "cell_type": "code",
      "metadata": {
        "id": "_VC9kDHGULHx"
      },
      "source": [
        "dados['tratamento']\n",
        "#selecionada somente a serie tratamento"
      ],
      "execution_count": null,
      "outputs": []
    },
    {
      "cell_type": "code",
      "metadata": {
        "id": "lkl4TthuUa0V"
      },
      "source": [
        "dados['tratamento'].unique()\n",
        "#mostra quais são os valores unicos encontrados na tabela unica"
      ],
      "execution_count": null,
      "outputs": []
    },
    {
      "cell_type": "code",
      "metadata": {
        "id": "gXZIbCRsVbjG"
      },
      "source": [
        "dados['tempo'].unique()"
      ],
      "execution_count": null,
      "outputs": []
    },
    {
      "cell_type": "code",
      "metadata": {
        "id": "VjJTqK-AdJJ5"
      },
      "source": [
        "dados['dose'].unique()"
      ],
      "execution_count": null,
      "outputs": []
    },
    {
      "cell_type": "code",
      "metadata": {
        "id": "MgytUwacdO8V"
      },
      "source": [
        "dados['droga'].unique()"
      ],
      "execution_count": null,
      "outputs": []
    },
    {
      "cell_type": "code",
      "metadata": {
        "id": "KRCJpT1beWFj"
      },
      "source": [
        "dados['g-0'].unique()\n",
        "\n",
        "# esses números nos dizem a expressão de cada gene frente as drogas ou a exposição."
      ],
      "execution_count": null,
      "outputs": []
    },
    {
      "cell_type": "code",
      "metadata": {
        "id": "tH2CnGg6ewxJ"
      },
      "source": [
        "dados['tratamento'].value_counts()\n",
        "\n",
        "#quantidade de valores que tem em cada um das colunas "
      ],
      "execution_count": null,
      "outputs": []
    },
    {
      "cell_type": "code",
      "metadata": {
        "id": "Fe-sLmycg-wW"
      },
      "source": [
        "dados['dose'].value_counts()"
      ],
      "execution_count": null,
      "outputs": []
    },
    {
      "cell_type": "code",
      "metadata": {
        "id": "nou5ef1Mjdn7"
      },
      "source": [
        "dados['droga'].value_counts()"
      ],
      "execution_count": null,
      "outputs": []
    },
    {
      "cell_type": "code",
      "metadata": {
        "id": "xiyCmSjdj9QF"
      },
      "source": [
        "dados['tratamento'].value_counts(normalize = True)\n",
        "\n",
        "#calcula a normalização dos dados, calculando assim a proporção entre os dados de tratamento"
      ],
      "execution_count": null,
      "outputs": []
    },
    {
      "cell_type": "code",
      "metadata": {
        "id": "2U5RXGWIkkq6"
      },
      "source": [
        "dados['dose'].value_counts(normalize = True)"
      ],
      "execution_count": null,
      "outputs": []
    },
    {
      "cell_type": "code",
      "metadata": {
        "id": "t0sKyarAksYT"
      },
      "source": [
        "dados['tratamento'].value_counts().plot.pie()"
      ],
      "execution_count": null,
      "outputs": []
    },
    {
      "cell_type": "code",
      "metadata": {
        "id": "oVihB3-5k5u2"
      },
      "source": [
        "dados['tempo'].value_counts().plot.pie()\n",
        "#essa forma não é muito facil de ver a diferença entre os valores, pois o balanceamento entre os valores está muito proximo"
      ],
      "execution_count": null,
      "outputs": []
    },
    {
      "cell_type": "code",
      "metadata": {
        "id": "htyUseRillmK"
      },
      "source": [
        "dados['tempo'].value_counts().plot.bar()\n",
        "\n",
        "#é interessante estudar cada tipo de grafico e também as melhores situações para utilizar cada um deles"
      ],
      "execution_count": null,
      "outputs": []
    },
    {
      "cell_type": "code",
      "metadata": {
        "id": "1WTfBK5Go24l"
      },
      "source": [
        "dados_filtrados = dados[dados['g-0'] > 0]\n",
        "dados_filtrados.head()\n",
        "\n",
        "#Analisa quais sao os valores de g-0 que são maiores que 0"
      ],
      "execution_count": null,
      "outputs": []
    },
    {
      "cell_type": "code",
      "metadata": {
        "id": "oqanP_xQpjwj"
      },
      "source": [
        "dados.columns\n"
      ],
      "execution_count": null,
      "outputs": []
    },
    {
      "cell_type": "code",
      "metadata": {
        "id": "eKzY76sdsR4G"
      },
      "source": [
        "nome_das_colunas = dados.columns"
      ],
      "execution_count": null,
      "outputs": []
    },
    {
      "cell_type": "code",
      "metadata": {
        "id": "9R10Mwo6tp6T"
      },
      "source": [
        "novo_nome_coluna = []\n",
        "\n",
        "for coluna in nome_das_colunas:\n",
        "  coluna = coluna.replace('-', '_')\n",
        "  novo_nome_coluna.append(coluna)\n",
        "dados.columns = novo_nome_coluna \n",
        "\n",
        "dados.head()\n",
        "\n",
        "#Esse for roda todo o array e faz a substituição dos nomes das colunas, nas colunas\n",
        "#que tem o '-' ele vai substituir por '_'"
      ],
      "execution_count": null,
      "outputs": []
    },
    {
      "cell_type": "code",
      "metadata": {
        "id": "aiQyhx2KuPFj"
      },
      "source": [
        "dados_filtrados = dados[dados['g_0'] > 0]\n",
        "dados_filtrados.head()\n",
        "\n",
        "#comparação do resultado usando Query com o resultado usando máscara + slice"
      ],
      "execution_count": null,
      "outputs": []
    },
    {
      "cell_type": "code",
      "metadata": {
        "id": "Q1uzH4GiuUj_"
      },
      "source": [
        "dados_filtrados = dados.query('g_0 > 0')\n",
        "dados_filtrados.head()"
      ],
      "execution_count": null,
      "outputs": []
    },
    {
      "cell_type": "markdown",
      "metadata": {
        "id": "ZE-hUf2jwBSP"
      },
      "source": [
        "Deixando os graficos mais bonitin hahaha"
      ]
    },
    {
      "cell_type": "code",
      "metadata": {
        "id": "_S0xCwtBv7nP"
      },
      "source": [
        "valore_tempo = dados['tempo'].value_counts(ascending=True)\n",
        "valore_tempo.sort_index()"
      ],
      "execution_count": null,
      "outputs": []
    },
    {
      "cell_type": "code",
      "metadata": {
        "id": "CCeXtowpwJYS"
      },
      "source": [
        "plt.figure(figsize=(15, 10))\n",
        "valore_tempo = dados['tempo'].value_counts(ascending=True)\n",
        "ax = valore_tempo.sort_index().plot.bar()\n",
        "ax.set_title('Janelas de tempo', fontsize=20)\n",
        "ax.set_xlabel('Tempo', fontsize=18)\n",
        "ax.set_ylabel('Quantidade', fontsize=18)\n",
        "plt.xticks(rotation = 0, fontsize=16)\n",
        "plt.yticks(fontsize=16)\n",
        "plt.show()"
      ],
      "execution_count": null,
      "outputs": []
    },
    {
      "cell_type": "code",
      "metadata": {
        "id": "peT1doaixFxF"
      },
      "source": [
        "mapa = {'droga': 'composto'}\n",
        "dados.rename(columns=mapa, inplace=True)\n",
        "\n",
        "#altera o nome da coluna 'droga' por 'composto'\n",
        "#parâmetro 'inplace = True', esse parâmetro faz com que os dados sejam modificados no local e o dataframe será atualizado. "
      ],
      "execution_count": null,
      "outputs": []
    },
    {
      "cell_type": "code",
      "metadata": {
        "id": "_Nc-Mcuq3UZH"
      },
      "source": [
        "dados.head()"
      ],
      "execution_count": null,
      "outputs": []
    },
    {
      "cell_type": "code",
      "metadata": {
        "id": "yJB-ini22vL2"
      },
      "source": [
        "cod_compostos = dados['composto'].value_counts().index[0:5]\n",
        "#elenca os 5 compostos que mais aparecem. "
      ],
      "execution_count": null,
      "outputs": []
    },
    {
      "cell_type": "code",
      "metadata": {
        "id": "ehdt25yD4dO6"
      },
      "source": [
        "cod_compostos"
      ],
      "execution_count": null,
      "outputs": []
    }
  ]
}
