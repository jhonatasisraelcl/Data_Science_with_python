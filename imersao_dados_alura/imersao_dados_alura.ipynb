{
  "nbformat": 4,
  "nbformat_minor": 0,
  "metadata": {
    "colab": {
      "name": "imersao_dados_alura.ipynb",
      "private_outputs": true,
      "provenance": []
    },
    "kernelspec": {
      "name": "python3",
      "display_name": "Python 3"
    },
    "language_info": {
      "name": "python"
    }
  },
  "cells": [
    {
      "cell_type": "code",
      "metadata": {
        "id": "jpU2YZT1Pb9i"
      },
      "source": [
        "import pandas as pd\n",
        "\n",
        "url_dados = 'https://github.com/alura-cursos/imersaodados3/blob/main/dados/dados_experimentos.zip?raw=true'\n",
        "\n",
        "dados = pd.read_csv(url_dados, compression = 'zip')\n",
        "dados\n",
        "\n",
        "# o compression = 'zip' descompacta o documento"
      ],
      "execution_count": null,
      "outputs": []
    },
    {
      "cell_type": "code",
      "metadata": {
        "id": "dtz9WiWaTJD6"
      },
      "source": [
        "dados.head()"
      ],
      "execution_count": null,
      "outputs": []
    },
    {
      "cell_type": "code",
      "metadata": {
        "id": "HqpqfSQYT4am"
      },
      "source": [
        "dados.shape\n",
        "#informação do total de linhas e colunas"
      ],
      "execution_count": null,
      "outputs": []
    },
    {
      "cell_type": "code",
      "metadata": {
        "id": "_VC9kDHGULHx"
      },
      "source": [
        "dados['tratamento']\n",
        "#selecionada somente a serie tratamento"
      ],
      "execution_count": null,
      "outputs": []
    },
    {
      "cell_type": "code",
      "metadata": {
        "id": "lkl4TthuUa0V"
      },
      "source": [
        "dados['tratamento'].unique()\n",
        "#mostra quais são os valores unicos encontrados na tabela unica"
      ],
      "execution_count": null,
      "outputs": []
    },
    {
      "cell_type": "code",
      "metadata": {
        "id": "gXZIbCRsVbjG"
      },
      "source": [
        "dados['tempo'].unique()"
      ],
      "execution_count": null,
      "outputs": []
    },
    {
      "cell_type": "code",
      "metadata": {
        "id": "VjJTqK-AdJJ5"
      },
      "source": [
        "dados['dose'].unique()"
      ],
      "execution_count": null,
      "outputs": []
    },
    {
      "cell_type": "code",
      "metadata": {
        "id": "MgytUwacdO8V"
      },
      "source": [
        "dados['droga'].unique()"
      ],
      "execution_count": null,
      "outputs": []
    },
    {
      "cell_type": "code",
      "metadata": {
        "id": "KRCJpT1beWFj"
      },
      "source": [
        "dados['g-0'].unique()\n",
        "\n",
        "# esses números nos dizem a expressão de cada gene frente as drogas ou a exposição."
      ],
      "execution_count": null,
      "outputs": []
    },
    {
      "cell_type": "code",
      "metadata": {
        "id": "tH2CnGg6ewxJ"
      },
      "source": [
        "dados['tratamento'].value_counts()\n",
        "\n",
        "#quantidade de valores que tem em cada um das colunas "
      ],
      "execution_count": null,
      "outputs": []
    },
    {
      "cell_type": "code",
      "metadata": {
        "id": "Fe-sLmycg-wW"
      },
      "source": [
        "dados['dose'].value_counts()"
      ],
      "execution_count": null,
      "outputs": []
    }
  ]
}
