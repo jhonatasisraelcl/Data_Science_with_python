{
 "cells": [
  {
   "cell_type": "code",
   "execution_count": 1,
   "metadata": {},
   "outputs": [
    {
     "name": "stdout",
     "output_type": "stream",
     "text": [
      "1\n",
      "1.2\n",
      "data_science\n",
      "True\n"
     ]
    }
   ],
   "source": [
    "#cria uma variavel do tipo inteiro\n",
    "x = 1\n",
    "print(x)\n",
    "#cria uma variavel do tipo float\n",
    "y = 1.2\n",
    "print(y)\n",
    "#cria uma variavel do tipo string\n",
    "z='data_science'\n",
    "print(z)\n",
    "#cria uma variavel do tipo boolean\n",
    "w=True\n",
    "print(w)"
   ]
  },
  {
   "cell_type": "code",
   "execution_count": 2,
   "metadata": {},
   "outputs": [
    {
     "name": "stdout",
     "output_type": "stream",
     "text": [
      "11.0\n"
     ]
    }
   ],
   "source": [
    "#calculadora\n",
    "a=1\n",
    "b=10\n",
    "c=100\n",
    "calc=(c/b)+a\n",
    "print(calc)"
   ]
  },
  {
   "cell_type": "code",
   "execution_count": 4,
   "metadata": {},
   "outputs": [
    {
     "name": "stdout",
     "output_type": "stream",
     "text": [
      "Os campos são conectados! \n",
      " peguei o  data_science  do primeiro campo e o  100 do segundo campo\n"
     ]
    }
   ],
   "source": [
    "#concatenação de textos\n",
    "print('Os campos são conectados! \\n peguei o ',z,' do primeiro campo e o ',c,'do segundo campo')"
   ]
  },
  {
   "cell_type": "code",
   "execution_count": 7,
   "metadata": {},
   "outputs": [
    {
     "name": "stdout",
     "output_type": "stream",
     "text": [
      "O  data_science  é do tipo  <class 'str'> , já o  1.2  é do tipo <class 'float'>\n"
     ]
    }
   ],
   "source": [
    "#verificação de tipos\n",
    "print(\"O \",z,\" é do tipo \", type(z),\", já o \", y,\" é do tipo\", type(y) )\n"
   ]
  },
  {
   "cell_type": "code",
   "execution_count": 10,
   "metadata": {},
   "outputs": [
    {
     "name": "stdin",
     "output_type": "stream",
     "text": [
      "Digite um valor 2\n"
     ]
    },
    {
     "name": "stdout",
     "output_type": "stream",
     "text": [
      "<class 'str'>\n"
     ]
    }
   ],
   "source": [
    "#entrada de dados\n",
    "x = input(\"Digite um valor\")\n",
    "print(type(x))"
   ]
  },
  {
   "cell_type": "code",
   "execution_count": 12,
   "metadata": {},
   "outputs": [
    {
     "name": "stdin",
     "output_type": "stream",
     "text": [
      "Digite um valor 2\n"
     ]
    },
    {
     "name": "stdout",
     "output_type": "stream",
     "text": [
      "<class 'str'>\n",
      "2\n",
      "<class 'int'>\n"
     ]
    }
   ],
   "source": [
    "#conversão de tipos de dados para inteiro\n",
    "x = input(\"Digite um valor\")\n",
    "print(type(x))\n",
    "x = int(x)\n",
    "print(x)\n",
    "print(type(x))"
   ]
  },
  {
   "cell_type": "code",
   "execution_count": 13,
   "metadata": {},
   "outputs": [
    {
     "name": "stdin",
     "output_type": "stream",
     "text": [
      "Digite um valor 2\n"
     ]
    },
    {
     "name": "stdout",
     "output_type": "stream",
     "text": [
      "<class 'str'>\n",
      "2.0\n",
      "<class 'float'>\n"
     ]
    }
   ],
   "source": [
    "#conversão de tipos de dados para float\n",
    "x = input(\"Digite um valor\")\n",
    "print(type(x))\n",
    "x = float(x)\n",
    "print(x)\n",
    "print(type(x))"
   ]
  },
  {
   "cell_type": "code",
   "execution_count": null,
   "metadata": {},
   "outputs": [],
   "source": []
  }
 ],
 "metadata": {
  "kernelspec": {
   "display_name": "Python 3",
   "language": "python",
   "name": "python3"
  },
  "language_info": {
   "codemirror_mode": {
    "name": "ipython",
    "version": 3
   },
   "file_extension": ".py",
   "mimetype": "text/x-python",
   "name": "python",
   "nbconvert_exporter": "python",
   "pygments_lexer": "ipython3",
   "version": "3.8.5"
  }
 },
 "nbformat": 4,
 "nbformat_minor": 4
}
