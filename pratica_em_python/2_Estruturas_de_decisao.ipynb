{
 "cells": [
  {
   "cell_type": "code",
   "execution_count": 1,
   "metadata": {},
   "outputs": [
    {
     "name": "stdout",
     "output_type": "stream",
     "text": [
      "aprovado\n"
     ]
    }
   ],
   "source": [
    "#passou?\n",
    "nota=6\n",
    "if nota>=6:\n",
    "    print(\"aprovado\")\n",
    "else:\n",
    "    print(\"reprovado\")"
   ]
  },
  {
   "cell_type": "code",
   "execution_count": 4,
   "metadata": {},
   "outputs": [
    {
     "name": "stdin",
     "output_type": "stream",
     "text": [
      " 10\n"
     ]
    },
    {
     "name": "stdout",
     "output_type": "stream",
     "text": [
      "aprovado\n"
     ]
    }
   ],
   "source": [
    "#nota inserida\n",
    "nota=input()\n",
    "nota=int(nota)\n",
    "if nota>=6:\n",
    "    print(\"aprovado\")\n",
    "else:\n",
    "    print(\"reprovado\")"
   ]
  },
  {
   "cell_type": "code",
   "execution_count": 5,
   "metadata": {},
   "outputs": [
    {
     "name": "stdin",
     "output_type": "stream",
     "text": [
      "digite a 1 nota:  7\n",
      "digite a 2 nota:  2\n"
     ]
    },
    {
     "name": "stdout",
     "output_type": "stream",
     "text": [
      "reprovado! Sua media foi 4.5\n"
     ]
    }
   ],
   "source": [
    "#media aritmetica\n",
    "nota1=input(\"digite a 1 nota: \")\n",
    "nota2=input(\"digite a 2 nota: \")\n",
    "nota1=int(nota1)\n",
    "nota2=int(nota2)\n",
    "media= (nota1+nota2)/2\n",
    "if media>=6:\n",
    "    print(\"aprovado! Sua media foi\", media)\n",
    "else:\n",
    "    print(\"reprovado! Sua media foi\", media)"
   ]
  },
  {
   "cell_type": "code",
   "execution_count": 8,
   "metadata": {},
   "outputs": [
    {
     "name": "stdin",
     "output_type": "stream",
     "text": [
      "digite a 1 nota:  6\n",
      "digite a 2 nota:  2\n"
     ]
    },
    {
     "name": "stdout",
     "output_type": "stream",
     "text": [
      "recuperação! Sua media foi 4.0\n"
     ]
    }
   ],
   "source": [
    "#prova final\n",
    "nota1=input(\"digite a 1 nota: \")\n",
    "nota2=input(\"digite a 2 nota: \")\n",
    "nota1=int(nota1)\n",
    "nota2=int(nota2)\n",
    "media= (nota1+nota2)/2\n",
    "if media>=7:\n",
    "    print(\"aprovado por nota! Sua media foi\", media)\n",
    "elif media < 7 and media >=5:\n",
    "    print(\"aprovado! Sua media foi\", media)\n",
    "elif media < 5 and media >=3:\n",
    "    print(\"recuperação! Sua media foi\", media)\n",
    "else:\n",
    "    print(\"reprovado! Sua media foi\", media)"
   ]
  },
  {
   "cell_type": "code",
   "execution_count": null,
   "metadata": {},
   "outputs": [],
   "source": []
  }
 ],
 "metadata": {
  "kernelspec": {
   "display_name": "Python 3",
   "language": "python",
   "name": "python3"
  },
  "language_info": {
   "codemirror_mode": {
    "name": "ipython",
    "version": 3
   },
   "file_extension": ".py",
   "mimetype": "text/x-python",
   "name": "python",
   "nbconvert_exporter": "python",
   "pygments_lexer": "ipython3",
   "version": "3.8.5"
  }
 },
 "nbformat": 4,
 "nbformat_minor": 4
}
