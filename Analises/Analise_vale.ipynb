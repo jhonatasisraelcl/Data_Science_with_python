{
  "nbformat": 4,
  "nbformat_minor": 0,
  "metadata": {
    "colab": {
      "name": "Analise_vale.ipynb",
      "private_outputs": true,
      "provenance": []
    },
    "kernelspec": {
      "name": "python3",
      "display_name": "Python 3"
    },
    "language_info": {
      "name": "python"
    }
  },
  "cells": [
    {
      "cell_type": "code",
      "metadata": {
        "id": "DXPKd2xSoo7g"
      },
      "source": [
        "import pandas as pd\n",
        "df = pd.read_csv(\"VALE.csv\")\n",
        "\n",
        "#Visualização de Dados\n",
        "import missingno"
      ],
      "execution_count": null,
      "outputs": []
    },
    {
      "cell_type": "code",
      "metadata": {
        "id": "g-sxh2Bqo1n2"
      },
      "source": [
        "df.head(5)"
      ],
      "execution_count": null,
      "outputs": []
    },
    {
      "cell_type": "code",
      "metadata": {
        "id": "WaQNIzm8o3NV"
      },
      "source": [
        "df.tail(5)"
      ],
      "execution_count": null,
      "outputs": []
    },
    {
      "cell_type": "code",
      "metadata": {
        "id": "rL9-maVEo_9k"
      },
      "source": [
        "df.describe()"
      ],
      "execution_count": null,
      "outputs": []
    },
    {
      "cell_type": "code",
      "metadata": {
        "id": "9FDQ2ruVpctp"
      },
      "source": [
        "df.info()"
      ],
      "execution_count": null,
      "outputs": []
    },
    {
      "cell_type": "code",
      "metadata": {
        "id": "eJJGW1Qdpsv9"
      },
      "source": [
        "# A describe é responsavel por encontrar os valores estatisticos da tabela (media, valor minimo, maximo, valores unicos, etc)\n",
        "df.describe(include=\"all\")"
      ],
      "execution_count": null,
      "outputs": []
    },
    {
      "cell_type": "code",
      "metadata": {
        "id": "abehSQX6qHvJ"
      },
      "source": [
        "#apresenta a quantidade de linhas x colunas\n",
        "df.shape"
      ],
      "execution_count": null,
      "outputs": []
    },
    {
      "cell_type": "code",
      "metadata": {
        "id": "HFzchJkCqpgx"
      },
      "source": [
        "linha, coluna = df.shape"
      ],
      "execution_count": null,
      "outputs": []
    },
    {
      "cell_type": "code",
      "metadata": {
        "id": "VRfdzQokqwvW"
      },
      "source": [
        "print(f\"Número de linhas é: {linha}\")"
      ],
      "execution_count": null,
      "outputs": []
    },
    {
      "cell_type": "code",
      "metadata": {
        "id": "bPg2Ti3fq0ia"
      },
      "source": [
        "print(f\"Número de colunas é: {coluna}\")"
      ],
      "execution_count": null,
      "outputs": []
    },
    {
      "cell_type": "code",
      "metadata": {
        "id": "O0KtX_3Oq2bV"
      },
      "source": [
        "#apresenta todas as colunas disponiveis no BD\n",
        "df.columns"
      ],
      "execution_count": null,
      "outputs": []
    },
    {
      "cell_type": "code",
      "metadata": {
        "id": "kqe8JCD9sGYm"
      },
      "source": [
        "#seleciona colunas\n",
        "df.Close"
      ],
      "execution_count": null,
      "outputs": []
    },
    {
      "cell_type": "code",
      "metadata": {
        "id": "7lhjMe_YtAvT"
      },
      "source": [
        "#renomeando a coluna Adj Close para Adj_close\n",
        "df.rename(columns={\"Adj Close\" : \"Adj_close\"}, inplace=True)"
      ],
      "execution_count": null,
      "outputs": []
    },
    {
      "cell_type": "code",
      "metadata": {
        "id": "6DGP9RiaumKL"
      },
      "source": [
        "df.Adj_close"
      ],
      "execution_count": null,
      "outputs": []
    },
    {
      "cell_type": "markdown",
      "metadata": {
        "id": "LMpDj9JlvBGb"
      },
      "source": [
        "Dados Faltantes"
      ]
    },
    {
      "cell_type": "code",
      "metadata": {
        "id": "xCe5s9pXu9-d"
      },
      "source": [
        "df.isnull().any()"
      ],
      "execution_count": null,
      "outputs": []
    },
    {
      "cell_type": "code",
      "metadata": {
        "id": "VG74As7Qs7ob"
      },
      "source": [
        "#vê quantos valores estão null\n",
        "df[df.isnull().any(axis=1)].head()"
      ],
      "execution_count": null,
      "outputs": []
    },
    {
      "cell_type": "code",
      "metadata": {
        "id": "YEtm2ejotbDy"
      },
      "source": [
        "#a missingno é uma das bibliotecas de visualização de dados e nela são passados o dataframe e o tamanho da matriz\n",
        "\n",
        "missingno.matrix(df, figsize=(40,10))"
      ],
      "execution_count": null,
      "outputs": []
    },
    {
      "cell_type": "code",
      "metadata": {
        "id": "cs99rXBBtq5O"
      },
      "source": [
        "#apaga os valores faltantes e adiciona na df\n",
        "df = df.dropna()"
      ],
      "execution_count": null,
      "outputs": []
    },
    {
      "cell_type": "code",
      "metadata": {
        "id": "utDtLOoUtxxN"
      },
      "source": [
        "#olha se ainda existe algum valor falso\n",
        "df.isnull().any()"
      ],
      "execution_count": null,
      "outputs": []
    },
    {
      "cell_type": "code",
      "metadata": {
        "id": "q9uH3zZVuTiw"
      },
      "source": [
        "#mostra as informações dos dados\n",
        "df.info()"
      ],
      "execution_count": null,
      "outputs": []
    },
    {
      "cell_type": "code",
      "metadata": {
        "id": "hn0YPkAouZLa"
      },
      "source": [
        "df.dtypes"
      ],
      "execution_count": null,
      "outputs": []
    },
    {
      "cell_type": "code",
      "metadata": {
        "id": "h-w8KEjxuspv"
      },
      "source": [
        "#altera o tipo da coluna, aqui no exemplo está alterando a coluna Date que está no tipo Object e coloca no tipo datetime\n",
        "df['Date'] = pd.to_datetime(df['Date'])"
      ],
      "execution_count": null,
      "outputs": []
    },
    {
      "cell_type": "code",
      "metadata": {
        "id": "7D-0rFQ2uynn"
      },
      "source": [
        "df.dtypes"
      ],
      "execution_count": null,
      "outputs": []
    },
    {
      "cell_type": "code",
      "metadata": {
        "id": "CT0fwFB-u3qx"
      },
      "source": [
        "#apresenta a maior data e a menor\n",
        "df['Date'].min(), df['Date'].max()"
      ],
      "execution_count": null,
      "outputs": []
    },
    {
      "cell_type": "code",
      "metadata": {
        "id": "AJ6a9XZTvE0l"
      },
      "source": [
        "df2 = pd.DataFrame(data = df[['Close', 'Adj_close']].to_numpy(), index=df[\"Date\"], columns = [['Close', 'Adj_close']])"
      ],
      "execution_count": null,
      "outputs": []
    },
    {
      "cell_type": "code",
      "metadata": {
        "id": "eONt1udoxYkn"
      },
      "source": [
        "df2"
      ],
      "execution_count": null,
      "outputs": []
    },
    {
      "cell_type": "code",
      "metadata": {
        "id": "aFJX9UoYxcnu"
      },
      "source": [
        "df2.plot(legend=True, figsize=(10,10))"
      ],
      "execution_count": null,
      "outputs": []
    }
  ]
}
