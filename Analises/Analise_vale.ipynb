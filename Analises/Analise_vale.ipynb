{
  "nbformat": 4,
  "nbformat_minor": 0,
  "metadata": {
    "colab": {
      "name": "Analise_vale.ipynb",
      "private_outputs": true,
      "provenance": [],
      "collapsed_sections": []
    },
    "kernelspec": {
      "name": "python3",
      "display_name": "Python 3"
    },
    "language_info": {
      "name": "python"
    }
  },
  "cells": [
    {
      "cell_type": "code",
      "metadata": {
        "id": "NJRC1L_OaDgq"
      },
      "source": [
        "!pip install hmmlearn"
      ],
      "execution_count": null,
      "outputs": []
    },
    {
      "cell_type": "code",
      "metadata": {
        "id": "DXPKd2xSoo7g"
      },
      "source": [
        "#Manipulação de Dados\n",
        "import pandas as pd\n",
        "import numpy as np\n",
        "\n",
        "#Visualização de Dados\n",
        "import missingno\n",
        "import matplotlib.pyplot as plt\n",
        "\n",
        "#Estatistica\n",
        "from scipy.stats import norm\n",
        "from scipy.stats import probplot\n",
        "\n",
        "#markov\n",
        "from hmmlearn import hmm\n",
        "\n",
        "#Leitura do documento CSV\n",
        "df = pd.read_csv(\"VALE.csv\")\n",
        "\n"
      ],
      "execution_count": null,
      "outputs": []
    },
    {
      "cell_type": "code",
      "metadata": {
        "id": "g-sxh2Bqo1n2"
      },
      "source": [
        "df.head(5)"
      ],
      "execution_count": null,
      "outputs": []
    },
    {
      "cell_type": "code",
      "metadata": {
        "id": "WaQNIzm8o3NV"
      },
      "source": [
        "df.tail(5)"
      ],
      "execution_count": null,
      "outputs": []
    },
    {
      "cell_type": "code",
      "metadata": {
        "id": "rL9-maVEo_9k"
      },
      "source": [
        "df.describe()"
      ],
      "execution_count": null,
      "outputs": []
    },
    {
      "cell_type": "code",
      "metadata": {
        "id": "9FDQ2ruVpctp"
      },
      "source": [
        "df.info()"
      ],
      "execution_count": null,
      "outputs": []
    },
    {
      "cell_type": "code",
      "metadata": {
        "id": "eJJGW1Qdpsv9"
      },
      "source": [
        "# A describe é responsavel por encontrar os valores estatisticos da tabela (media, valor minimo, maximo, valores unicos, etc)\n",
        "df.describe(include=\"all\")"
      ],
      "execution_count": null,
      "outputs": []
    },
    {
      "cell_type": "code",
      "metadata": {
        "id": "abehSQX6qHvJ"
      },
      "source": [
        "#apresenta a quantidade de linhas x colunas\n",
        "df.shape"
      ],
      "execution_count": null,
      "outputs": []
    },
    {
      "cell_type": "code",
      "metadata": {
        "id": "HFzchJkCqpgx"
      },
      "source": [
        "linha, coluna = df.shape"
      ],
      "execution_count": null,
      "outputs": []
    },
    {
      "cell_type": "code",
      "metadata": {
        "id": "VRfdzQokqwvW"
      },
      "source": [
        "print(f\"Número de linhas é: {linha}\")"
      ],
      "execution_count": null,
      "outputs": []
    },
    {
      "cell_type": "code",
      "metadata": {
        "id": "bPg2Ti3fq0ia"
      },
      "source": [
        "print(f\"Número de colunas é: {coluna}\")"
      ],
      "execution_count": null,
      "outputs": []
    },
    {
      "cell_type": "code",
      "metadata": {
        "id": "O0KtX_3Oq2bV"
      },
      "source": [
        "#apresenta todas as colunas disponiveis no BD\n",
        "df.columns"
      ],
      "execution_count": null,
      "outputs": []
    },
    {
      "cell_type": "code",
      "metadata": {
        "id": "kqe8JCD9sGYm"
      },
      "source": [
        "#seleciona colunas\n",
        "df.Close"
      ],
      "execution_count": null,
      "outputs": []
    },
    {
      "cell_type": "code",
      "metadata": {
        "id": "7lhjMe_YtAvT"
      },
      "source": [
        "#renomeando a coluna Adj Close para Adj_close\n",
        "df.rename(columns={\"Adj Close\" : \"Adj_close\"}, inplace=True)"
      ],
      "execution_count": null,
      "outputs": []
    },
    {
      "cell_type": "code",
      "metadata": {
        "id": "6DGP9RiaumKL"
      },
      "source": [
        "df.Adj_close"
      ],
      "execution_count": null,
      "outputs": []
    },
    {
      "cell_type": "markdown",
      "metadata": {
        "id": "LMpDj9JlvBGb"
      },
      "source": [
        "Dados Faltantes"
      ]
    },
    {
      "cell_type": "code",
      "metadata": {
        "id": "xCe5s9pXu9-d"
      },
      "source": [
        "df.isnull().any()"
      ],
      "execution_count": null,
      "outputs": []
    },
    {
      "cell_type": "code",
      "metadata": {
        "id": "VG74As7Qs7ob"
      },
      "source": [
        "#vê quantos valores estão null\n",
        "df[df.isnull().any(axis=1)].head()"
      ],
      "execution_count": null,
      "outputs": []
    },
    {
      "cell_type": "code",
      "metadata": {
        "id": "YEtm2ejotbDy"
      },
      "source": [
        "#a missingno é uma das bibliotecas de visualização de dados e nela são passados o dataframe e o tamanho da matriz\n",
        "\n",
        "missingno.matrix(df, figsize=(40,10))"
      ],
      "execution_count": null,
      "outputs": []
    },
    {
      "cell_type": "code",
      "metadata": {
        "id": "cs99rXBBtq5O"
      },
      "source": [
        "#apaga os valores faltantes e adiciona na df\n",
        "df = df.dropna()"
      ],
      "execution_count": null,
      "outputs": []
    },
    {
      "cell_type": "code",
      "metadata": {
        "id": "utDtLOoUtxxN"
      },
      "source": [
        "#olha se ainda existe algum valor falso\n",
        "df.isnull().any()"
      ],
      "execution_count": null,
      "outputs": []
    },
    {
      "cell_type": "code",
      "metadata": {
        "id": "q9uH3zZVuTiw"
      },
      "source": [
        "#mostra as informações dos dados\n",
        "df.info()"
      ],
      "execution_count": null,
      "outputs": []
    },
    {
      "cell_type": "code",
      "metadata": {
        "id": "hn0YPkAouZLa"
      },
      "source": [
        "df.dtypes"
      ],
      "execution_count": null,
      "outputs": []
    },
    {
      "cell_type": "code",
      "metadata": {
        "id": "h-w8KEjxuspv"
      },
      "source": [
        "#altera o tipo da coluna, aqui no exemplo está alterando a coluna Date que está no tipo Object e coloca no tipo datetime\n",
        "df['Date'] = pd.to_datetime(df['Date'])"
      ],
      "execution_count": null,
      "outputs": []
    },
    {
      "cell_type": "code",
      "metadata": {
        "id": "7D-0rFQ2uynn"
      },
      "source": [
        "df.dtypes"
      ],
      "execution_count": null,
      "outputs": []
    },
    {
      "cell_type": "code",
      "metadata": {
        "id": "CT0fwFB-u3qx"
      },
      "source": [
        "#apresenta a maior data e a menor\n",
        "df['Date'].min(), df['Date'].max()"
      ],
      "execution_count": null,
      "outputs": []
    },
    {
      "cell_type": "code",
      "metadata": {
        "id": "AJ6a9XZTvE0l"
      },
      "source": [
        "#criando um novo dataframe com base no df, nesse novo vai ser pego as colunas 'Close', 'Adj_close' e está colocando como index a Date\n",
        "df2 = pd.DataFrame(data = df[['Close', 'Adj_close']].to_numpy(), index=df[\"Date\"], columns = [['Close', 'Adj_close']])"
      ],
      "execution_count": null,
      "outputs": []
    },
    {
      "cell_type": "code",
      "metadata": {
        "id": "eONt1udoxYkn"
      },
      "source": [
        "#mostra o df2\n",
        "df2"
      ],
      "execution_count": null,
      "outputs": []
    },
    {
      "cell_type": "code",
      "metadata": {
        "id": "aFJX9UoYxcnu"
      },
      "source": [
        "#plotagem do df2 com legenda e tamanho da matriz 10x10\n",
        "df2.plot(legend=True, figsize=(20,10))"
      ],
      "execution_count": null,
      "outputs": []
    },
    {
      "cell_type": "code",
      "metadata": {
        "id": "ZFVFCeelvvEY"
      },
      "source": [
        "df.head()"
      ],
      "execution_count": null,
      "outputs": []
    },
    {
      "cell_type": "code",
      "metadata": {
        "id": "4P8uBAqvwY20"
      },
      "source": [
        "#pega o valor do dia anterior\n",
        "df['P_close'] = df['Close'].shift(1)"
      ],
      "execution_count": null,
      "outputs": []
    },
    {
      "cell_type": "code",
      "metadata": {
        "id": "rNTlyav-zmwb"
      },
      "source": [
        "df.head()"
      ],
      "execution_count": null,
      "outputs": []
    },
    {
      "cell_type": "code",
      "metadata": {
        "id": "Zzv4Dz8-0VqA"
      },
      "source": [
        "#inserçao de uma nova coluna com base nas colunas P_close e Close, onde ele faz a coluna Close dividida pela P_close e depois diminui 1\n",
        "df['Return'] = df['Close'] / df['P_close'] - 1"
      ],
      "execution_count": null,
      "outputs": []
    },
    {
      "cell_type": "code",
      "metadata": {
        "id": "T1stNs5D0-Mo"
      },
      "source": [
        "df.head()"
      ],
      "execution_count": null,
      "outputs": []
    },
    {
      "cell_type": "code",
      "metadata": {
        "id": "MP_FscH03a5t"
      },
      "source": [
        "#calcula o percentual de retorno (faz a mesma coisa que a linha anterior)\n",
        "df[\"Return2\"] = df['Close'].pct_change(1)"
      ],
      "execution_count": null,
      "outputs": []
    },
    {
      "cell_type": "code",
      "metadata": {
        "id": "x8mT0KkC38dZ"
      },
      "source": [
        "df.head()"
      ],
      "execution_count": null,
      "outputs": []
    },
    {
      "cell_type": "code",
      "metadata": {
        "id": "W9D9gl6c5YwB"
      },
      "source": [
        "#deleta a coluna\n",
        "del df['Return2']"
      ],
      "execution_count": null,
      "outputs": []
    },
    {
      "cell_type": "code",
      "metadata": {
        "id": "5TEwy7vO7fcd"
      },
      "source": [
        "df.head()"
      ],
      "execution_count": null,
      "outputs": []
    },
    {
      "cell_type": "code",
      "metadata": {
        "id": "afC8NB3J9WXb"
      },
      "source": [
        "#Cria uma nova coluna com o log do valor vindo de return  \n",
        "df['Log_Return'] = np.log(df['Return']+ 1)"
      ],
      "execution_count": null,
      "outputs": []
    },
    {
      "cell_type": "code",
      "metadata": {
        "id": "j2Xg0JNf9ZtS"
      },
      "source": [
        "df.head()"
      ],
      "execution_count": null,
      "outputs": []
    },
    {
      "cell_type": "code",
      "metadata": {
        "id": "UrVD1cnZ-Cdc"
      },
      "source": [
        "#Encontra a media e o desvio padrao\n",
        "df['Return'].mean(), df['Return'].std()"
      ],
      "execution_count": null,
      "outputs": []
    },
    {
      "cell_type": "code",
      "metadata": {
        "id": "Ae5l_BIL_IFl"
      },
      "source": [
        "#Encontra a media e o desvio padrao\n",
        "df['Log_Return'].mean(), df['Log_Return'].std()"
      ],
      "execution_count": null,
      "outputs": []
    },
    {
      "cell_type": "code",
      "metadata": {
        "id": "opaPvObD_UM6"
      },
      "source": [
        "#plot um histograma\n",
        "df['Return'].hist(bins=100)\n",
        "\n",
        "#a distribuição tem formato de sino, o que quer dizer que é uma distribuição normal"
      ],
      "execution_count": null,
      "outputs": []
    },
    {
      "cell_type": "code",
      "metadata": {
        "id": "0mDzVxp1AV8P"
      },
      "source": [
        "df['Log_Return'].hist(bins=100)"
      ],
      "execution_count": null,
      "outputs": []
    },
    {
      "cell_type": "code",
      "metadata": {
        "id": "KhUn89YvB6oZ"
      },
      "source": [
        "x= np.linspace(df['Return'].min(), df['Return'].max(), 100)"
      ],
      "execution_count": null,
      "outputs": []
    },
    {
      "cell_type": "code",
      "metadata": {
        "id": "yfnUDqRBCr4f"
      },
      "source": [
        "#calcula a probabilidade\n",
        "y= norm.pdf(x, loc= df['Return'].mean(), scale= df['Return'].std())"
      ],
      "execution_count": null,
      "outputs": []
    },
    {
      "cell_type": "code",
      "metadata": {
        "id": "auTq9LWIDjae"
      },
      "source": [
        "plt.plot(x,y)\n",
        "df['Return'].hist(bins=100, density=True)"
      ],
      "execution_count": null,
      "outputs": []
    },
    {
      "cell_type": "code",
      "metadata": {
        "id": "ylMhJ3GNEZQ5"
      },
      "source": [
        "#graficos de probabilidades\n",
        "probplot(df['Return'].dropna(), dist='norm', fit=True, plot=plt)\n",
        "\n",
        "#o dropna esta apagando os alores que nao existem\n",
        "#dist é o tipo de distribuição (tipo do grafico)\n",
        "#fit é o ajuste dos dados"
      ],
      "execution_count": null,
      "outputs": []
    },
    {
      "cell_type": "code",
      "metadata": {
        "id": "azBps3N6ypH9"
      },
      "source": [
        "#calculo da simetria\n",
        "df['Return'].skew()\n",
        "\n",
        "#Em Estatística, a assimetria, também conhecida como obliquidade é uma medida da \n",
        "#falta de simetria de uma determinada distribuição de frequência. É definida por:\n",
        "# {\\displaystyle \\mathrm {v={\\frac {m_{3}}{\\sigma ^{3}}}} }\n",
        "# Onde m₃ é o terceiro Momento central e σ é o desvio-padrão."
      ],
      "execution_count": null,
      "outputs": []
    },
    {
      "cell_type": "code",
      "metadata": {
        "id": "7cpAkU5j05Lf"
      },
      "source": [
        "#calculo da curtose\n",
        "df['Return'].kurtosis()\n",
        "\n",
        "#Em estatística descritiva, a curtose é uma medida de forma que caracteriza o \n",
        "#achatamento da curva da função de distribuição de probabilidade. É usualmente definida como:\n",
        "# {\\displaystyle \\mathrm {{\\frac {m_{4}}{\\sigma ^{4}}}+} } Onde {\\displaystyle \\mathrm {m_{4}} } é\n",
        "#o quarto momento central e σ é o desvio-padrão.\n"
      ],
      "execution_count": null,
      "outputs": []
    },
    {
      "cell_type": "code",
      "metadata": {
        "id": "A76SY4_z-38n"
      },
      "source": [
        "#calculo do intervalo de confiança\n",
        "values = df['Return'].dropna().to_numpy() \n",
        "\n",
        "#Em estatística, intervalo de confiança é um tipo de estimativa por intervalo de \n",
        "#um parâmetro populacional desconhecido. Introduzido na estatística por Jerzy Neyman em 1937,\n",
        "# é um intervalo observado que pode variar de amostra para amostra e que com dada \n",
        "#frequência inclui o parâmetro de interesse real não observável.\n",
        "\n",
        "#Aqui foi criado um array com os valores de confiança, cada um em uma linha diferente do array"
      ],
      "execution_count": null,
      "outputs": []
    },
    {
      "cell_type": "code",
      "metadata": {
        "id": "MpFdbHpP6blM"
      },
      "source": [
        "values"
      ],
      "execution_count": null,
      "outputs": []
    },
    {
      "cell_type": "code",
      "metadata": {
        "id": "fl5PPzJJ6_Z4"
      },
      "source": [
        "m = values.mean()\n",
        "s = values.std(ddof=1)\n",
        "\n",
        "#tá fazendo o calculo da média e do desvio padrao dos valores encontrados no array"
      ],
      "execution_count": null,
      "outputs": []
    },
    {
      "cell_type": "code",
      "metadata": {
        "id": "g22hL-Ye7bzz"
      },
      "source": [
        "low = m - 1.96 * s / np.sqrt(len(values))\n",
        "\n",
        "#calculo para encontrar o menor valor\n",
        "\n",
        "high = m + 1.96 * s / np.sqrt(len(values))\n",
        "\n",
        "#calculo para encontrar o maior valor"
      ],
      "execution_count": null,
      "outputs": []
    },
    {
      "cell_type": "code",
      "metadata": {
        "id": "QTJQwR1P84Nw"
      },
      "source": [
        "df['Return'].hist(bins=100, density = True, figsize=(20,10))\n",
        "plt.axvline(m, label=\"mean\", color='red')\n",
        "plt.axvline(low, label=\"low\", color='green')\n",
        "plt.axvline(high, label=\"high\", color='green')\n",
        "plt.axvline(0, label=\"zero\", color='blue')\n",
        "plt.legend()"
      ],
      "execution_count": null,
      "outputs": []
    },
    {
      "cell_type": "code",
      "metadata": {
        "id": "2JAeulRw-BNx"
      },
      "source": [
        "plt.axvline(m, label=\"mean\", color='red')\n",
        "plt.axvline(low, label=\"low\", color='green')\n",
        "plt.axvline(high, label=\"high\", color='green')\n",
        "plt.axvline(0, label=\"zero\", color='blue')\n",
        "plt.legend()"
      ],
      "execution_count": null,
      "outputs": []
    },
    {
      "cell_type": "code",
      "metadata": {
        "id": "27YVb5jnAcgl"
      },
      "source": [
        "df3 = pd.read_csv('VALE.csv', index_col=0, parse_dates=True)"
      ],
      "execution_count": null,
      "outputs": []
    },
    {
      "cell_type": "code",
      "metadata": {
        "id": "kKn9UC8nBDuv"
      },
      "source": [
        "df3.head()"
      ],
      "execution_count": null,
      "outputs": []
    },
    {
      "cell_type": "code",
      "metadata": {
        "id": "aduLg9EZDeka"
      },
      "source": [
        "df3_close = pd.DataFrame(df3['Close'])"
      ],
      "execution_count": null,
      "outputs": []
    },
    {
      "cell_type": "code",
      "metadata": {
        "id": "ur5cBRIMDwwU"
      },
      "source": [
        "df3_close.head()"
      ],
      "execution_count": null,
      "outputs": []
    },
    {
      "cell_type": "code",
      "metadata": {
        "id": "50di3uVcD6JK"
      },
      "source": [
        "df3_close.plot()"
      ],
      "execution_count": null,
      "outputs": []
    },
    {
      "cell_type": "code",
      "metadata": {
        "id": "o7UKtbGlJwsk"
      },
      "source": [
        "df3_close['Close'].plot(figsize=(20,10), label=\"Vale\")\n",
        "df3_close['Close'].rolling(10).mean().plot(label=\"10 dias\")\n",
        "df3_close['Close'].rolling(50).mean().plot(label=\"50 dias\")\n",
        "\n",
        "#media movel"
      ],
      "execution_count": null,
      "outputs": []
    },
    {
      "cell_type": "code",
      "metadata": {
        "id": "sjhFCb6kROYL"
      },
      "source": [
        "df3_ret = np.log(df3_close.pct_change(1)+1)"
      ],
      "execution_count": null,
      "outputs": []
    },
    {
      "cell_type": "code",
      "metadata": {
        "id": "ZjjKy5Z9RlUT"
      },
      "source": [
        "df3_ret.plot(figsize=(20,10))"
      ],
      "execution_count": null,
      "outputs": []
    },
    {
      "cell_type": "code",
      "metadata": {
        "id": "WdBGPk9QRqLX"
      },
      "source": [
        "df3_ret['Close'].plot( figsize=(20,6), label=\"Vale\")\n",
        "df3_ret['Close'].rolling(10).mean().plot(label=\"10 dias\")\n",
        "df3_ret['Close'].rolling(50).mean().plot(label=\"50 dias\")"
      ],
      "execution_count": null,
      "outputs": []
    },
    {
      "cell_type": "code",
      "metadata": {
        "id": "H1o8FJ5IYPb8"
      },
      "source": [
        "df4 = pd.read_csv('VALE.csv', index_col='Date', parse_dates=True)"
      ],
      "execution_count": null,
      "outputs": []
    },
    {
      "cell_type": "code",
      "metadata": {
        "id": "kTnCpAgtYlmi"
      },
      "source": [
        "df4.head()"
      ],
      "execution_count": null,
      "outputs": []
    },
    {
      "cell_type": "code",
      "metadata": {
        "id": "iNpih3cRYteN"
      },
      "source": [
        "retorno = np.log(df4['Close']).diff()"
      ],
      "execution_count": null,
      "outputs": []
    },
    {
      "cell_type": "code",
      "metadata": {
        "id": "6XNi_R7sZNA7"
      },
      "source": [
        "retorno.dropna(inplace=True)"
      ],
      "execution_count": null,
      "outputs": []
    },
    {
      "cell_type": "code",
      "metadata": {
        "id": "_6v_pLrqZaoF"
      },
      "source": [
        "retorno.hist(bins=50)"
      ],
      "execution_count": null,
      "outputs": []
    },
    {
      "cell_type": "code",
      "metadata": {
        "id": "nk4XO6pzaje3"
      },
      "source": [
        "model = hmm.GaussianHMM(n_components=2, covariance_type= \"diag\")"
      ],
      "execution_count": null,
      "outputs": []
    },
    {
      "cell_type": "code",
      "metadata": {
        "id": "Ymigyaaha7qv"
      },
      "source": [
        "model"
      ],
      "execution_count": null,
      "outputs": []
    },
    {
      "cell_type": "code",
      "metadata": {
        "id": "Z7aCVr9Va8aj"
      },
      "source": [
        "X = retorno.to_numpy().reshape(-1,1)"
      ],
      "execution_count": null,
      "outputs": []
    },
    {
      "cell_type": "code",
      "metadata": {
        "id": "P9FBbQjTbRLb"
      },
      "source": [
        "model.fit(X)"
      ],
      "execution_count": null,
      "outputs": []
    },
    {
      "cell_type": "code",
      "metadata": {
        "id": "vXcniWPEcbup"
      },
      "source": [
        ""
      ],
      "execution_count": null,
      "outputs": []
    }
  ]
}
