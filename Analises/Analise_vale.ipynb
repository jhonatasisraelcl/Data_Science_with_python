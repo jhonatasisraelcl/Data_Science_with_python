{
  "nbformat": 4,
  "nbformat_minor": 0,
  "metadata": {
    "colab": {
      "name": "Analise_vale.ipynb",
      "private_outputs": true,
      "provenance": [],
      "collapsed_sections": []
    },
    "kernelspec": {
      "name": "python3",
      "display_name": "Python 3"
    },
    "language_info": {
      "name": "python"
    }
  },
  "cells": [
    {
      "cell_type": "code",
      "metadata": {
        "id": "DXPKd2xSoo7g"
      },
      "source": [
        "#Manipulação de Dados\n",
        "import pandas as pd\n",
        "import numpy as np\n",
        "\n",
        "#Visualização de Dados\n",
        "import missingno\n",
        "\n",
        "#Leitura do documento CSV\n",
        "df = pd.read_csv(\"VALE.csv\")"
      ],
      "execution_count": null,
      "outputs": []
    },
    {
      "cell_type": "code",
      "metadata": {
        "id": "g-sxh2Bqo1n2"
      },
      "source": [
        "df.head(5)"
      ],
      "execution_count": null,
      "outputs": []
    },
    {
      "cell_type": "code",
      "metadata": {
        "id": "WaQNIzm8o3NV"
      },
      "source": [
        "df.tail(5)"
      ],
      "execution_count": null,
      "outputs": []
    },
    {
      "cell_type": "code",
      "metadata": {
        "id": "rL9-maVEo_9k"
      },
      "source": [
        "df.describe()"
      ],
      "execution_count": null,
      "outputs": []
    },
    {
      "cell_type": "code",
      "metadata": {
        "id": "9FDQ2ruVpctp"
      },
      "source": [
        "df.info()"
      ],
      "execution_count": null,
      "outputs": []
    },
    {
      "cell_type": "code",
      "metadata": {
        "id": "eJJGW1Qdpsv9"
      },
      "source": [
        "# A describe é responsavel por encontrar os valores estatisticos da tabela (media, valor minimo, maximo, valores unicos, etc)\n",
        "df.describe(include=\"all\")"
      ],
      "execution_count": null,
      "outputs": []
    },
    {
      "cell_type": "code",
      "metadata": {
        "id": "abehSQX6qHvJ"
      },
      "source": [
        "#apresenta a quantidade de linhas x colunas\n",
        "df.shape"
      ],
      "execution_count": null,
      "outputs": []
    },
    {
      "cell_type": "code",
      "metadata": {
        "id": "HFzchJkCqpgx"
      },
      "source": [
        "linha, coluna = df.shape"
      ],
      "execution_count": null,
      "outputs": []
    },
    {
      "cell_type": "code",
      "metadata": {
        "id": "VRfdzQokqwvW"
      },
      "source": [
        "print(f\"Número de linhas é: {linha}\")"
      ],
      "execution_count": null,
      "outputs": []
    },
    {
      "cell_type": "code",
      "metadata": {
        "id": "bPg2Ti3fq0ia"
      },
      "source": [
        "print(f\"Número de colunas é: {coluna}\")"
      ],
      "execution_count": null,
      "outputs": []
    },
    {
      "cell_type": "code",
      "metadata": {
        "id": "O0KtX_3Oq2bV"
      },
      "source": [
        "#apresenta todas as colunas disponiveis no BD\n",
        "df.columns"
      ],
      "execution_count": null,
      "outputs": []
    },
    {
      "cell_type": "code",
      "metadata": {
        "id": "kqe8JCD9sGYm"
      },
      "source": [
        "#seleciona colunas\n",
        "df.Close"
      ],
      "execution_count": null,
      "outputs": []
    },
    {
      "cell_type": "code",
      "metadata": {
        "id": "7lhjMe_YtAvT"
      },
      "source": [
        "#renomeando a coluna Adj Close para Adj_close\n",
        "df.rename(columns={\"Adj Close\" : \"Adj_close\"}, inplace=True)"
      ],
      "execution_count": null,
      "outputs": []
    },
    {
      "cell_type": "code",
      "metadata": {
        "id": "6DGP9RiaumKL"
      },
      "source": [
        "df.Adj_close"
      ],
      "execution_count": null,
      "outputs": []
    },
    {
      "cell_type": "markdown",
      "metadata": {
        "id": "LMpDj9JlvBGb"
      },
      "source": [
        "Dados Faltantes"
      ]
    },
    {
      "cell_type": "code",
      "metadata": {
        "id": "xCe5s9pXu9-d"
      },
      "source": [
        "df.isnull().any()"
      ],
      "execution_count": null,
      "outputs": []
    },
    {
      "cell_type": "code",
      "metadata": {
        "id": "VG74As7Qs7ob"
      },
      "source": [
        "#vê quantos valores estão null\n",
        "df[df.isnull().any(axis=1)].head()"
      ],
      "execution_count": null,
      "outputs": []
    },
    {
      "cell_type": "code",
      "metadata": {
        "id": "YEtm2ejotbDy"
      },
      "source": [
        "#a missingno é uma das bibliotecas de visualização de dados e nela são passados o dataframe e o tamanho da matriz\n",
        "\n",
        "missingno.matrix(df, figsize=(40,10))"
      ],
      "execution_count": null,
      "outputs": []
    },
    {
      "cell_type": "code",
      "metadata": {
        "id": "cs99rXBBtq5O"
      },
      "source": [
        "#apaga os valores faltantes e adiciona na df\n",
        "df = df.dropna()"
      ],
      "execution_count": null,
      "outputs": []
    },
    {
      "cell_type": "code",
      "metadata": {
        "id": "utDtLOoUtxxN"
      },
      "source": [
        "#olha se ainda existe algum valor falso\n",
        "df.isnull().any()"
      ],
      "execution_count": null,
      "outputs": []
    },
    {
      "cell_type": "code",
      "metadata": {
        "id": "q9uH3zZVuTiw"
      },
      "source": [
        "#mostra as informações dos dados\n",
        "df.info()"
      ],
      "execution_count": null,
      "outputs": []
    },
    {
      "cell_type": "code",
      "metadata": {
        "id": "hn0YPkAouZLa"
      },
      "source": [
        "df.dtypes"
      ],
      "execution_count": null,
      "outputs": []
    },
    {
      "cell_type": "code",
      "metadata": {
        "id": "h-w8KEjxuspv"
      },
      "source": [
        "#altera o tipo da coluna, aqui no exemplo está alterando a coluna Date que está no tipo Object e coloca no tipo datetime\n",
        "df['Date'] = pd.to_datetime(df['Date'])"
      ],
      "execution_count": null,
      "outputs": []
    },
    {
      "cell_type": "code",
      "metadata": {
        "id": "7D-0rFQ2uynn"
      },
      "source": [
        "df.dtypes"
      ],
      "execution_count": null,
      "outputs": []
    },
    {
      "cell_type": "code",
      "metadata": {
        "id": "CT0fwFB-u3qx"
      },
      "source": [
        "#apresenta a maior data e a menor\n",
        "df['Date'].min(), df['Date'].max()"
      ],
      "execution_count": null,
      "outputs": []
    },
    {
      "cell_type": "code",
      "metadata": {
        "id": "AJ6a9XZTvE0l"
      },
      "source": [
        "#criando um novo dataframe com base no df, nesse novo vai ser pego as colunas 'Close', 'Adj_close' e está colocando como index a Date\n",
        "df2 = pd.DataFrame(data = df[['Close', 'Adj_close']].to_numpy(), index=df[\"Date\"], columns = [['Close', 'Adj_close']])"
      ],
      "execution_count": null,
      "outputs": []
    },
    {
      "cell_type": "code",
      "metadata": {
        "id": "eONt1udoxYkn"
      },
      "source": [
        "#mostra o df2\n",
        "df2"
      ],
      "execution_count": null,
      "outputs": []
    },
    {
      "cell_type": "code",
      "metadata": {
        "id": "aFJX9UoYxcnu"
      },
      "source": [
        "#plotagem do df2 com legenda e tamanho da matriz 10x10\n",
        "df2.plot(legend=True, figsize=(20,10))"
      ],
      "execution_count": null,
      "outputs": []
    },
    {
      "cell_type": "code",
      "metadata": {
        "id": "ZFVFCeelvvEY"
      },
      "source": [
        "df.head()"
      ],
      "execution_count": null,
      "outputs": []
    },
    {
      "cell_type": "code",
      "metadata": {
        "id": "4P8uBAqvwY20"
      },
      "source": [
        "#pega o valor do dia anterior\n",
        "df['P_close'] = df['Close'].shift(1)"
      ],
      "execution_count": null,
      "outputs": []
    },
    {
      "cell_type": "code",
      "metadata": {
        "id": "rNTlyav-zmwb"
      },
      "source": [
        "df.head()"
      ],
      "execution_count": null,
      "outputs": []
    },
    {
      "cell_type": "code",
      "metadata": {
        "id": "Zzv4Dz8-0VqA"
      },
      "source": [
        "#inserçao de uma nova coluna com base nas colunas P_close e Close, onde ele faz a coluna Close dividida pela P_close e depois diminui 1\n",
        "df['Return'] = df['Close'] / df['P_close'] - 1"
      ],
      "execution_count": null,
      "outputs": []
    },
    {
      "cell_type": "code",
      "metadata": {
        "id": "T1stNs5D0-Mo"
      },
      "source": [
        "df.head()"
      ],
      "execution_count": null,
      "outputs": []
    },
    {
      "cell_type": "code",
      "metadata": {
        "id": "MP_FscH03a5t"
      },
      "source": [
        "#calcula o percentual de retorno (faz a mesma coisa que a linha anterior)\n",
        "df[\"Return2\"] = df['Close'].pct_change(1)"
      ],
      "execution_count": null,
      "outputs": []
    },
    {
      "cell_type": "code",
      "metadata": {
        "id": "x8mT0KkC38dZ"
      },
      "source": [
        "df.head()"
      ],
      "execution_count": null,
      "outputs": []
    },
    {
      "cell_type": "code",
      "metadata": {
        "id": "W9D9gl6c5YwB"
      },
      "source": [
        "#deleta a coluna\n",
        "del df['Return2']"
      ],
      "execution_count": null,
      "outputs": []
    }
  ]
}
