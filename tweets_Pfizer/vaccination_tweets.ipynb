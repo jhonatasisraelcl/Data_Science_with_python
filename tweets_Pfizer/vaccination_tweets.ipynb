{
  "nbformat": 4,
  "nbformat_minor": 0,
  "metadata": {
    "colab": {
      "name": "vaccination_tweets.ipynb",
      "private_outputs": true,
      "provenance": [],
      "collapsed_sections": []
    },
    "kernelspec": {
      "name": "python3",
      "display_name": "Python 3"
    },
    "language_info": {
      "name": "python"
    }
  },
  "cells": [
    {
      "cell_type": "code",
      "metadata": {
        "id": "pMMPxATCfxr9"
      },
      "source": [
        "#manipulação dos dados\n",
        "import pandas as pd\n",
        "url_dados = 'https://github.com/jhonatasisraelcl/Data_Science_with_python/blob/main/tweets_Pfizer/vaccination_tweets.csv?raw=true'\n",
        "df = pd.read_csv(url_dados)\n",
        "\n",
        "#visualização dos dados\n",
        "import  missingno\n",
        "import matplotlib.pyplot as plt\n",
        "import seaborn as sns\n",
        "\n",
        "import warnings\n",
        "warnings.filterwarnings(\"ignore\")"
      ],
      "execution_count": null,
      "outputs": []
    },
    {
      "cell_type": "code",
      "metadata": {
        "id": "veM2HF9hiSBa"
      },
      "source": [
        "df.head()"
      ],
      "execution_count": null,
      "outputs": []
    },
    {
      "cell_type": "code",
      "metadata": {
        "id": "H7VxsedjiWtQ"
      },
      "source": [
        "df.shape\n",
        "#mostra o tamanho do dataframe"
      ],
      "execution_count": null,
      "outputs": []
    },
    {
      "cell_type": "code",
      "metadata": {
        "id": "b4JMhA6fi_ze"
      },
      "source": [
        "df.info()\n",
        "#dá todas informações do dataframe\n",
        "#objeto é um misto de numeros e textos"
      ],
      "execution_count": null,
      "outputs": []
    },
    {
      "cell_type": "code",
      "metadata": {
        "id": "UMUlmDeUjJy1"
      },
      "source": [
        "df.describe()"
      ],
      "execution_count": null,
      "outputs": []
    },
    {
      "cell_type": "markdown",
      "metadata": {
        "id": "E3do-wZMlPxm"
      },
      "source": [
        "# Avaliar dados faltantes"
      ]
    },
    {
      "cell_type": "code",
      "metadata": {
        "id": "NlzcIWmyj3-5"
      },
      "source": [
        "df.isnull().any()"
      ],
      "execution_count": null,
      "outputs": []
    },
    {
      "cell_type": "code",
      "metadata": {
        "id": "CCLr5aZTlZv-"
      },
      "source": [
        "df.isnull().sum().sort_values(ascending=False)"
      ],
      "execution_count": null,
      "outputs": []
    },
    {
      "cell_type": "code",
      "metadata": {
        "id": "lwB9WY1OlwEJ"
      },
      "source": [
        "missingno.matrix(df, figsize=(40,10))"
      ],
      "execution_count": null,
      "outputs": []
    },
    {
      "cell_type": "code",
      "metadata": {
        "id": "iZE_qU_inZ0h"
      },
      "source": [
        "df[df.isnull().any(axis=1)].head()"
      ],
      "execution_count": null,
      "outputs": []
    },
    {
      "cell_type": "code",
      "metadata": {
        "id": "tAhbFhjcne3J"
      },
      "source": [
        "linhas, colunas = df.shape\n",
        "df.shape"
      ],
      "execution_count": null,
      "outputs": []
    },
    {
      "cell_type": "code",
      "metadata": {
        "id": "HONTA7cIir1T"
      },
      "source": [
        "print(linhas)"
      ],
      "execution_count": null,
      "outputs": []
    },
    {
      "cell_type": "code",
      "metadata": {
        "id": "mYN8WIsTk4xq"
      },
      "source": [
        "percentual_faltantes = (df.isnull().sum()/linhas) * 100"
      ],
      "execution_count": null,
      "outputs": []
    },
    {
      "cell_type": "code",
      "metadata": {
        "id": "yqmvhxGVk_9U"
      },
      "source": [
        "print(percentual_faltantes)"
      ],
      "execution_count": null,
      "outputs": []
    },
    {
      "cell_type": "code",
      "metadata": {
        "id": "W28qsyd4lMVF"
      },
      "source": [
        "df[\"user_created\"] = pd.to_datetime(df[\"user_created\"], format= '%Y-%m-%d %H:%M:%S')\n",
        "df[\"date\"] = pd.to_datetime(df[\"date\"], format= '%Y-%m-%d %H:%M:%S')\n"
      ],
      "execution_count": null,
      "outputs": []
    },
    {
      "cell_type": "code",
      "metadata": {
        "id": "RH9aGHgWlzAM"
      },
      "source": [
        "df.info()"
      ],
      "execution_count": null,
      "outputs": []
    },
    {
      "cell_type": "code",
      "metadata": {
        "id": "oJsF6nIZm3cP"
      },
      "source": [
        "plt.figure(figsize=(10,12))\n",
        "sns.barplot(df[\"user_location\"].value_counts().values[0:5], df[\"user_location\"].value_counts().index[0:5]);\n",
        "plt.title(\"Top 5 paises\", fontsize=12)\n",
        "plt.xlabel(\"Numero de tweets\", fontsize=12)\n",
        "plt.ylabel(\"Paises\", fontsize=12)\n",
        "plt.show"
      ],
      "execution_count": null,
      "outputs": []
    },
    {
      "cell_type": "code",
      "metadata": {
        "id": "bwEeGKyAQ6Xy"
      },
      "source": [
        ""
      ],
      "execution_count": null,
      "outputs": []
    }
  ]
}
